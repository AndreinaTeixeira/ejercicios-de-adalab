{
 "cells": [
  {
   "cell_type": "code",
   "execution_count": null,
   "id": "2848740d",
   "metadata": {},
   "outputs": [
    {
     "name": "stdout",
     "output_type": "stream",
     "text": [
      "chiqui\n"
     ]
    }
   ],
   "source": [
    "str(0)\n",
    "float(\"3.15\")\n",
    "int(\"42\")\n",
    "cajita = \"chiqui\"\n",
    "print(cajita)\n",
    "\n"
   ]
  },
  {
   "cell_type": "markdown",
   "id": "9699130f",
   "metadata": {},
   "source": [
    "texto\n"
   ]
  },
  {
   "cell_type": "code",
   "execution_count": 85,
   "id": "c0be37f4",
   "metadata": {},
   "outputs": [
    {
     "name": "stdout",
     "output_type": "stream",
     "text": [
      "9\n",
      "9\n"
     ]
    },
    {
     "data": {
      "text/plain": [
       "'bien'"
      ]
     },
     "execution_count": 85,
     "metadata": {},
     "output_type": "execute_result"
    }
   ],
   "source": [
    "a = 8\n",
    "b = 9\n",
    "print(a and b)\n",
    "print(b or a)\n",
    "nombre = input(\"Cómo estás hoy\")\n",
    "nombre"
   ]
  },
  {
   "cell_type": "code",
   "execution_count": 55,
   "id": "911be084",
   "metadata": {},
   "outputs": [
    {
     "name": "stdout",
     "output_type": "stream",
     "text": [
      "8\n",
      "cuatro\n",
      "cuatro mas cuatro\n",
      "cuatro mas cuatro es igual a 8\n",
      "cuatro + cuatro =8\n"
     ]
    },
    {
     "data": {
      "text/plain": [
       "2.0"
      ]
     },
     "execution_count": 55,
     "metadata": {},
     "output_type": "execute_result"
    }
   ],
   "source": [
    "\n",
    "#Crea la variable gatos que sea un número con el valor 8.\n",
    "gato=8\n",
    "\n",
    "#Crea la variable perros que sea un texto de seis caracteres: la palabra cuatro.\n",
    "perro='cuatro'\n",
    "\n",
    "#Imprime la variable gatos.\n",
    "print(gato)\n",
    "\n",
    "#Imprime la variable perros.\n",
    "print(perro)\n",
    "\n",
    "#Imprime la variable perros seguida por la palabra más y la palabra perros otra vez.\n",
    "print(perro + ' ' + 'mas' + ' ' + perro)\n",
    "\n",
    "#Consigue que el ordenador devuelva el siguiente texto, usando la variable perros: cuatro más cuatro es igual a 8\n",
    "print(perro + ' ' + 'mas' + ' ' + perro + ' ' + 'es igual a 8')\n",
    "\n",
    "#Consigue que el ordenador devuelva el siguiente texto, usando la variableperros: cuatro + cuatro = 8.\n",
    "print(perro + ' ' + '+' + ' ' + perro + ' ' + '=8')\n",
    "\n",
    "#Define una variable pizzas con un valor 2 que sea del tipo float.\n",
    "pizzas=float(2)\n",
    "pizzas"
   ]
  },
  {
   "cell_type": "code",
   "execution_count": 56,
   "id": "29b5544f",
   "metadata": {},
   "outputs": [],
   "source": [
    "#Define magdalenas con un valor 2 que sea del tipo string.\n",
    "magdalenas = str(2)"
   ]
  },
  {
   "cell_type": "code",
   "execution_count": 57,
   "id": "b0e7c293",
   "metadata": {},
   "outputs": [],
   "source": [
    "#Define postres con un valor 0 que sea del tipo int.\n",
    "postres = int(0)"
   ]
  },
  {
   "cell_type": "code",
   "execution_count": 58,
   "id": "4c9bee86",
   "metadata": {},
   "outputs": [
    {
     "data": {
      "text/plain": [
       "float"
      ]
     },
     "execution_count": 58,
     "metadata": {},
     "output_type": "execute_result"
    }
   ],
   "source": [
    "#¿Qué tipo de dato es la variable pizzas?\n",
    "type(pizzas) #float"
   ]
  },
  {
   "cell_type": "code",
   "execution_count": 59,
   "id": "87c42ca0",
   "metadata": {},
   "outputs": [
    {
     "data": {
      "text/plain": [
       "str"
      ]
     },
     "execution_count": 59,
     "metadata": {},
     "output_type": "execute_result"
    }
   ],
   "source": [
    "#¿Es la variable magdalenas de tipo string?b\n",
    "type(magdalenas) #SÍ, ES STRING"
   ]
  },
  {
   "cell_type": "code",
   "execution_count": 60,
   "id": "5af1aeb9",
   "metadata": {},
   "outputs": [],
   "source": [
    "#Define postres con un valor 0.\n",
    "postres=0\n"
   ]
  },
  {
   "cell_type": "code",
   "execution_count": 61,
   "id": "c890bfd1",
   "metadata": {},
   "outputs": [
    {
     "data": {
      "text/plain": [
       "10.0"
      ]
     },
     "execution_count": 61,
     "metadata": {},
     "output_type": "execute_result"
    }
   ],
   "source": [
    "#Calcula la suma de gatos y pizzas.\n",
    "gato + pizzas"
   ]
  },
  {
   "cell_type": "code",
   "execution_count": 62,
   "id": "108faba6",
   "metadata": {},
   "outputs": [
    {
     "data": {
      "text/plain": [
       "6.0"
      ]
     },
     "execution_count": 62,
     "metadata": {},
     "output_type": "execute_result"
    }
   ],
   "source": [
    "#Calcula la diferencia entre gatos y pizzas.\n",
    "gato-pizzas"
   ]
  },
  {
   "cell_type": "code",
   "execution_count": 63,
   "id": "69470c75",
   "metadata": {},
   "outputs": [
    {
     "data": {
      "text/plain": [
       "16"
      ]
     },
     "execution_count": 63,
     "metadata": {},
     "output_type": "execute_result"
    }
   ],
   "source": [
    "#Multiplica las cantidad de gatos por 2.\n",
    "gato*2"
   ]
  },
  {
   "cell_type": "code",
   "execution_count": 64,
   "id": "796d1f17",
   "metadata": {},
   "outputs": [
    {
     "data": {
      "text/plain": [
       "16.0"
      ]
     },
     "execution_count": 64,
     "metadata": {},
     "output_type": "execute_result"
    }
   ],
   "source": [
    "#Crea una variable piezas que sea 8 veces la cantidad de pizzas.\n",
    "piezas=(pizzas*8)\n",
    "piezas"
   ]
  },
  {
   "cell_type": "code",
   "execution_count": 65,
   "id": "aa7d9a0d",
   "metadata": {},
   "outputs": [
    {
     "data": {
      "text/plain": [
       "19.0"
      ]
     },
     "execution_count": 65,
     "metadata": {},
     "output_type": "execute_result"
    }
   ],
   "source": [
    "#Haz que la cantidad de piezas se aumente en 3.\n",
    "piezas=piezas+3\n",
    "piezas"
   ]
  },
  {
   "cell_type": "code",
   "execution_count": 66,
   "id": "529ec753",
   "metadata": {},
   "outputs": [
    {
     "data": {
      "text/plain": [
       "81"
      ]
     },
     "execution_count": 66,
     "metadata": {},
     "output_type": "execute_result"
    }
   ],
   "source": [
    "#Calcula el cuadrado de 9 y guárdalo en una variable llamada superficie.\n",
    "superficie=9**2\n",
    "superficie"
   ]
  },
  {
   "cell_type": "code",
   "execution_count": 67,
   "id": "7de4729d",
   "metadata": {},
   "outputs": [
    {
     "data": {
      "text/plain": [
       "10.125"
      ]
     },
     "execution_count": 67,
     "metadata": {},
     "output_type": "execute_result"
    }
   ],
   "source": [
    "#¿Cuánta superficie hay por gato?\n",
    "superficie/gato"
   ]
  },
  {
   "cell_type": "code",
   "execution_count": 68,
   "id": "9b32cd82",
   "metadata": {},
   "outputs": [
    {
     "data": {
      "text/plain": [
       "2"
      ]
     },
     "execution_count": 68,
     "metadata": {},
     "output_type": "execute_result"
    }
   ],
   "source": [
    "#¿Cuántas piezas enteras hay por gato?\n",
    "piezas=int(piezas)\n",
    "int(piezas//gato)"
   ]
  },
  {
   "cell_type": "code",
   "execution_count": 69,
   "id": "c54a2c05",
   "metadata": {},
   "outputs": [],
   "source": [
    "#¿Cuántas piezas te quedan si cada gato se come 21 piezas? \n",
    "# #es imposible"
   ]
  },
  {
   "cell_type": "code",
   "execution_count": 70,
   "id": "d217389a",
   "metadata": {},
   "outputs": [
    {
     "data": {
      "text/plain": [
       "103"
      ]
     },
     "execution_count": 70,
     "metadata": {},
     "output_type": "execute_result"
    }
   ],
   "source": [
    "#¿Cuánta superficie hay por gato en metros cuadrados? \n",
    "# Redondeala a un sólo decimal. Intenta calcularlo dentro del mismo print() en una sola línea.\n",
    "round(float(((superficie/gato)**2)))"
   ]
  },
  {
   "cell_type": "code",
   "execution_count": 71,
   "id": "185cf774",
   "metadata": {},
   "outputs": [
    {
     "data": {
      "text/plain": [
       "True"
      ]
     },
     "execution_count": 71,
     "metadata": {},
     "output_type": "execute_result"
    }
   ],
   "source": [
    "#¿Es verdad que hay más gatos que pizzas?\n",
    "gato>pizzas"
   ]
  },
  {
   "cell_type": "code",
   "execution_count": 72,
   "id": "cf45e2e3",
   "metadata": {},
   "outputs": [
    {
     "data": {
      "text/plain": [
       "True"
      ]
     },
     "execution_count": 72,
     "metadata": {},
     "output_type": "execute_result"
    }
   ],
   "source": [
    "#¿Es verdad que hay menos gatos que superficie?\n",
    "gato<superficie"
   ]
  },
  {
   "cell_type": "code",
   "execution_count": 73,
   "id": "1e75b131",
   "metadata": {},
   "outputs": [
    {
     "data": {
      "text/plain": [
       "True"
      ]
     },
     "execution_count": 73,
     "metadata": {},
     "output_type": "execute_result"
    }
   ],
   "source": [
    "#¿Es verdad que 2 veces la cantidad de pizzas es distinto de la cantidad de gatos?\n",
    "(2*pizzas)!=gato"
   ]
  },
  {
   "cell_type": "code",
   "execution_count": 74,
   "id": "714316e7",
   "metadata": {},
   "outputs": [
    {
     "data": {
      "text/plain": [
       "True"
      ]
     },
     "execution_count": 74,
     "metadata": {},
     "output_type": "execute_result"
    }
   ],
   "source": [
    "#¿Es falso que 2 veces la cantidad de pizzas es igual a la cantidad de gatos?\n",
    "not(2*pizzas)==gato"
   ]
  },
  {
   "cell_type": "code",
   "execution_count": 75,
   "id": "54ec62aa",
   "metadata": {},
   "outputs": [
    {
     "data": {
      "text/plain": [
       "True"
      ]
     },
     "execution_count": 75,
     "metadata": {},
     "output_type": "execute_result"
    }
   ],
   "source": [
    "#La variable piezas, es mayor o igual a pizzas y superficie es distinto de cero?\n",
    "piezas>=pizzas and superficie!=0"
   ]
  },
  {
   "cell_type": "code",
   "execution_count": 76,
   "id": "d9d251f5",
   "metadata": {},
   "outputs": [
    {
     "data": {
      "text/plain": [
       "True"
      ]
     },
     "execution_count": 76,
     "metadata": {},
     "output_type": "execute_result"
    }
   ],
   "source": [
    "#La variable piezas, es mayor o igual a pizzas y menor que superficie\n",
    "piezas>=pizzas and piezas<superficie"
   ]
  },
  {
   "cell_type": "code",
   "execution_count": 77,
   "id": "cb8b7640",
   "metadata": {},
   "outputs": [
    {
     "data": {
      "text/plain": [
       "False"
      ]
     },
     "execution_count": 77,
     "metadata": {},
     "output_type": "execute_result"
    }
   ],
   "source": [
    "#Me interesa saber si hay más pizzas que gatos, o si el residuo de piezas por gato es cero.\n",
    "pizzas>gato or piezas%gato==0"
   ]
  },
  {
   "cell_type": "code",
   "execution_count": 78,
   "id": "e9293837",
   "metadata": {},
   "outputs": [
    {
     "name": "stdout",
     "output_type": "stream",
     "text": [
      "True\n"
     ]
    }
   ],
   "source": [
    "#Comprueba las comparaciones de 29. en una sola línea, sin usar la variable piezas más que una sola vez.\n",
    "print(piezas >= pizzas < superficie)\n"
   ]
  },
  {
   "cell_type": "code",
   "execution_count": 79,
   "id": "3f07e16c",
   "metadata": {},
   "outputs": [
    {
     "data": {
      "text/plain": [
       "False"
      ]
     },
     "execution_count": 79,
     "metadata": {},
     "output_type": "execute_result"
    }
   ],
   "source": [
    "#Comprueba si superficie es diferente a cero sin usar !=.\n",
    "superficie==00"
   ]
  },
  {
   "cell_type": "code",
   "execution_count": null,
   "id": "dd61cb83",
   "metadata": {},
   "outputs": [
    {
     "name": "stdout",
     "output_type": "stream",
     "text": [
      "dos de diciembre\n",
      "Fecha de cumpleaños es dos de diciembre.\n"
     ]
    }
   ],
   "source": [
    "#Usa input() para preguntar a un usuario el día de su cumpleaños y guarda la respuesta en la variable dia_cumple.\n",
    "dia_cumple=input(\"Cuál es el día de tu cumple:  \")\n",
    "\n",
    "#Usa input() para preguntar a un usuario el mes de su cumpleaños y guarda la respuesta en la variable mes_cumple.\n",
    "mes_cumple=input(\"Cuál es el mes de tu cumple: \")     \n",
    "\n",
    "#Haz que fecha_cumple sea un string compuesto por el día y el mes.\n",
    "fecha_cumple=(dia_cumple + \" \" + \"de\" + \" \" + mes_cumple)\n",
    "print(fecha_cumple)\n",
    "\n",
    "#Usa .strip() en ambas de las variables definidas.\n",
    "dia_cumple=input(\"Cuál es el día de tu cumple:  \").strip()\n",
    "mes_cumple=input(\"Cuál es el mes de tu cumple\").strip() \n",
    "\n",
    "#Imprime Fecha de cumpleaños es más el día y el mes.\n",
    "print(f\"Fecha de cumpleaños es {dia_cumple} de {mes_cumple}.\")\n"
   ]
  },
  {
   "cell_type": "code",
   "execution_count": 82,
   "id": "354e2f26",
   "metadata": {},
   "outputs": [
    {
     "name": "stdout",
     "output_type": "stream",
     "text": [
      "CUATRO\n"
     ]
    }
   ],
   "source": [
    "#Imprime la variable perros en todas mayúsculas.\n",
    "print(perro.upper())"
   ]
  },
  {
   "cell_type": "code",
   "execution_count": null,
   "id": "ab9aa0c0",
   "metadata": {},
   "outputs": [
    {
     "name": "stdout",
     "output_type": "stream",
     "text": [
      "Reprobado\n"
     ]
    }
   ],
   "source": [
    "nota = 50\n",
    "if nota >= 90:\n",
    "    print(\"Excelente\")\n",
    "elif nota >=70:\n",
    "    print(\"Aprobado\")\n",
    "else:\n",
    "    print(\"Reprobado\")"
   ]
  }
 ],
 "metadata": {
  "kernelspec": {
   "display_name": "base",
   "language": "python",
   "name": "python3"
  },
  "language_info": {
   "codemirror_mode": {
    "name": "ipython",
    "version": 3
   },
   "file_extension": ".py",
   "mimetype": "text/x-python",
   "name": "python",
   "nbconvert_exporter": "python",
   "pygments_lexer": "ipython3",
   "version": "3.12.9"
  }
 },
 "nbformat": 4,
 "nbformat_minor": 5
}
