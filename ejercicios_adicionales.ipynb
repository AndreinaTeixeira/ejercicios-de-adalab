{
 "cells": [
  {
   "cell_type": "markdown",
   "id": "72825111",
   "metadata": {},
   "source": [
    "Listas y tuplas"
   ]
  },
  {
   "cell_type": "code",
   "execution_count": 1237,
   "id": "22eec789",
   "metadata": {},
   "outputs": [],
   "source": [
    "#Haz una lista llamada colores donde almacenemos los primeros 6 colores que te vengan a la mente.\n",
    "\n",
    "colores = [\"azul\", \"rojo\", \"fucsia\", \"verde\", \"plateado\", \"morado\"]"
   ]
  },
  {
   "cell_type": "code",
   "execution_count": 1238,
   "id": "7d2553db",
   "metadata": {},
   "outputs": [],
   "source": [
    "#Haz una lista llamada buses de las líneas de autobuses que pasan por tu casa.\n",
    "buses = [109, 70, 106]"
   ]
  },
  {
   "cell_type": "code",
   "execution_count": 1239,
   "id": "f23cfed6",
   "metadata": {},
   "outputs": [],
   "source": [
    "#Apunta la previsión de temperaturas máximas para todos los días de esta semana en temperaturas.\n",
    "temperaturas = [[18,7], [19,9], [18,10], [17,8], [21,10], [23,12], [22,11]]"
   ]
  },
  {
   "cell_type": "code",
   "execution_count": 1240,
   "id": "3ed42472",
   "metadata": {},
   "outputs": [
    {
     "name": "stdout",
     "output_type": "stream",
     "text": [
      "['A', 'n', 'd', 'r', 'e', 'i', 'n', 'a']\n"
     ]
    }
   ],
   "source": [
    "#Convierte tu(s) nombre(s) a una lista nombres de caracteres.\n",
    "nombre= \"Andreina\"\n",
    "nombres = list(nombre)\n",
    "print(nombres)\n"
   ]
  },
  {
   "cell_type": "code",
   "execution_count": 1241,
   "id": "e5c1b69f",
   "metadata": {},
   "outputs": [
    {
     "name": "stdout",
     "output_type": "stream",
     "text": [
      "['T', 'e', 'i', 'x', 'e', 'i', 'r', 'a', ' ', 'd', 'e', ' ', 'F', 'r', 'a', 'n', 'c', 'a']\n"
     ]
    }
   ],
   "source": [
    "#Convierte tu(s) apellido(s) a una lista apellidos de caracteres.\n",
    "apellido = \"Teixeira de Franca\"\n",
    "apellidos =list(apellido)\n",
    "print(apellidos)"
   ]
  },
  {
   "cell_type": "code",
   "execution_count": 1242,
   "id": "30ae7203",
   "metadata": {},
   "outputs": [
    {
     "name": "stdout",
     "output_type": "stream",
     "text": [
      "3\n"
     ]
    }
   ],
   "source": [
    "#¿Cuántos búses pasan por tu casa?\n",
    "print(len(buses))"
   ]
  },
  {
   "cell_type": "code",
   "execution_count": 1243,
   "id": "76936033",
   "metadata": {},
   "outputs": [
    {
     "name": "stdout",
     "output_type": "stream",
     "text": [
      "18\n"
     ]
    }
   ],
   "source": [
    "#¿Cuántos caracteres hay en tu apellido(s) (inluyendo los espacios)?\n",
    "print(len(apellidos))"
   ]
  },
  {
   "cell_type": "code",
   "execution_count": 1244,
   "id": "a38781e3",
   "metadata": {},
   "outputs": [
    {
     "data": {
      "text/plain": [
       "[23, 12]"
      ]
     },
     "execution_count": 1244,
     "metadata": {},
     "output_type": "execute_result"
    }
   ],
   "source": [
    "#¿Cuáles son las temperaturas máximas (t_max) y mínimas (t_min) para esta semana?\n",
    "max(temperaturas)"
   ]
  },
  {
   "cell_type": "code",
   "execution_count": 1245,
   "id": "bc112e7e",
   "metadata": {},
   "outputs": [
    {
     "name": "stdout",
     "output_type": "stream",
     "text": [
      "4\n"
     ]
    },
    {
     "data": {
      "text/plain": [
       "True"
      ]
     },
     "execution_count": 1245,
     "metadata": {},
     "output_type": "execute_result"
    }
   ],
   "source": [
    "#Hay una 'e' en tu nombre?\n",
    "print(nombre.find(\"e\"))\n",
    "\"e\" in nombres"
   ]
  },
  {
   "cell_type": "code",
   "execution_count": 1246,
   "id": "76973fa7",
   "metadata": {},
   "outputs": [
    {
     "data": {
      "text/plain": [
       "False"
      ]
     },
     "execution_count": 1246,
     "metadata": {},
     "output_type": "execute_result"
    }
   ],
   "source": [
    "#Tienes el color 'rosa' en la lista de colores?\n",
    "\"rosa\" in colores"
   ]
  },
  {
   "cell_type": "code",
   "execution_count": 1247,
   "id": "981f8a3b",
   "metadata": {},
   "outputs": [
    {
     "data": {
      "text/plain": [
       "True"
      ]
     },
     "execution_count": 1247,
     "metadata": {},
     "output_type": "execute_result"
    }
   ],
   "source": [
    "#¿Tiene una 'x' tu nombre? (Usa not in)\n",
    "\"x\" not in nombres"
   ]
  },
  {
   "cell_type": "code",
   "execution_count": 1248,
   "id": "33a7f5e4",
   "metadata": {},
   "outputs": [
    {
     "data": {
      "text/plain": [
       "[[18, 7], [19, 9], [18, 10], [17, 8], [21, 10], [23, 12], [22, 11]]"
      ]
     },
     "execution_count": 1248,
     "metadata": {},
     "output_type": "execute_result"
    }
   ],
   "source": [
    "#Copia el contenido de temperaturas a temperaturas2, y temperaturas3.\n",
    "temperaturas2 = temperaturas.copy()\n",
    "temperaturas3 = temperaturas.copy()\n",
    "temperaturas3"
   ]
  },
  {
   "cell_type": "code",
   "execution_count": 1249,
   "id": "bdb6a7f5",
   "metadata": {},
   "outputs": [
    {
     "data": {
      "text/plain": [
       "[]"
      ]
     },
     "execution_count": 1249,
     "metadata": {},
     "output_type": "execute_result"
    }
   ],
   "source": [
    "#Vacía el contenido de la variable temperaturas2\n",
    "temperaturas2.clear()\n",
    "temperaturas2"
   ]
  },
  {
   "cell_type": "code",
   "execution_count": 1250,
   "id": "bf63d5f5",
   "metadata": {},
   "outputs": [
    {
     "name": "stdout",
     "output_type": "stream",
     "text": [
      "[]\n",
      "[[18, 7], [19, 9], [18, 10], [17, 8], [21, 10], [23, 12], [22, 11]]\n"
     ]
    }
   ],
   "source": [
    "#Imprime el contenido de temperaturas y temperaturas2.\n",
    "print(temperaturas2)\n",
    "print(temperaturas3)"
   ]
  },
  {
   "cell_type": "code",
   "execution_count": 1251,
   "id": "ed10e283",
   "metadata": {},
   "outputs": [
    {
     "data": {
      "text/plain": [
       "['A', 'n', 'd', 'r', 'e', 'i', 'n', 'a']"
      ]
     },
     "execution_count": 1251,
     "metadata": {},
     "output_type": "execute_result"
    }
   ],
   "source": [
    "#Copia el contenido de nombres a nombres2.\n",
    "nombres2 = nombres.copy()\n",
    "nombres2"
   ]
  },
  {
   "cell_type": "code",
   "execution_count": 1252,
   "id": "8ec6dde7",
   "metadata": {},
   "outputs": [
    {
     "data": {
      "text/plain": [
       "['T',\n",
       " 'e',\n",
       " 'i',\n",
       " 'x',\n",
       " 'e',\n",
       " 'i',\n",
       " 'r',\n",
       " 'a',\n",
       " ' ',\n",
       " 'd',\n",
       " 'e',\n",
       " ' ',\n",
       " 'F',\n",
       " 'r',\n",
       " 'a',\n",
       " 'n',\n",
       " 'c',\n",
       " 'a']"
      ]
     },
     "execution_count": 1252,
     "metadata": {},
     "output_type": "execute_result"
    }
   ],
   "source": [
    "#Copia el contenido de apellidos a apellidos2.\n",
    "apellidos2 = apellidos.copy()\n",
    "apellidos2"
   ]
  },
  {
   "cell_type": "code",
   "execution_count": 1253,
   "id": "003d5cfd",
   "metadata": {},
   "outputs": [
    {
     "data": {
      "text/plain": [
       "[[23, 12], [22, 11], [21, 10], [19, 9], [18, 10], [18, 7], [17, 8]]"
      ]
     },
     "execution_count": 1253,
     "metadata": {},
     "output_type": "execute_result"
    }
   ],
   "source": [
    "#Ordena la variable temperaturas3 de mayor a menor.\n",
    "temperaturas3.sort(reverse=True)\n",
    "temperaturas3"
   ]
  },
  {
   "cell_type": "code",
   "execution_count": 1254,
   "id": "7d8e0dcd",
   "metadata": {},
   "outputs": [
    {
     "name": "stdout",
     "output_type": "stream",
     "text": [
      "['A', 'a', 'd', 'e', 'i', 'n', 'n', 'r']\n",
      "[' ', ' ', 'F', 'T', 'a', 'a', 'a', 'c', 'd', 'e', 'e', 'e', 'i', 'i', 'n', 'r', 'r', 'x']\n"
     ]
    }
   ],
   "source": [
    "\n",
    "#Ordena los caracteres de tu nombre y tu apellido en las listas nombres2 y apellidos2. \n",
    "# Imprime el resultado y investiga: ¿qué orden ha cogido? ¿Cómo trata las mayúsculas?\n",
    "nombres2.sort()\n",
    "apellidos2.sort()\n",
    "print(nombres2)\n",
    "print(apellidos2) #ordena por orden alfabetico, las mayúsculas las coloca primero por orden alfabético"
   ]
  },
  {
   "cell_type": "code",
   "execution_count": 1255,
   "id": "4535693f",
   "metadata": {},
   "outputs": [
    {
     "data": {
      "text/plain": [
       "1"
      ]
     },
     "execution_count": 1255,
     "metadata": {},
     "output_type": "execute_result"
    }
   ],
   "source": [
    "#¿Cuántas 'a' tiene tu nombre? ¿Y cuántas 'o'?\n",
    "nombre.count(\"a\")"
   ]
  },
  {
   "cell_type": "code",
   "execution_count": 1256,
   "id": "c860db6e",
   "metadata": {},
   "outputs": [
    {
     "data": {
      "text/plain": [
       "0"
      ]
     },
     "execution_count": 1256,
     "metadata": {},
     "output_type": "execute_result"
    }
   ],
   "source": [
    "nombre.count(\"o\")"
   ]
  },
  {
   "cell_type": "code",
   "execution_count": 1257,
   "id": "78b4db4e",
   "metadata": {},
   "outputs": [
    {
     "data": {
      "text/plain": [
       "1"
      ]
     },
     "execution_count": 1257,
     "metadata": {},
     "output_type": "execute_result"
    }
   ],
   "source": [
    "#Verifica si los resultados de ejercicio 19 son iguales para la lista nombres2.\n",
    "nombres.count(\"a\") #son iguales"
   ]
  },
  {
   "cell_type": "code",
   "execution_count": 1258,
   "id": "856ee270",
   "metadata": {},
   "outputs": [
    {
     "data": {
      "text/plain": [
       "0"
      ]
     },
     "execution_count": 1258,
     "metadata": {},
     "output_type": "execute_result"
    }
   ],
   "source": [
    "nombres.count(\"o\")"
   ]
  },
  {
   "cell_type": "code",
   "execution_count": 1259,
   "id": "b0f18e28",
   "metadata": {},
   "outputs": [
    {
     "name": "stdout",
     "output_type": "stream",
     "text": [
      "1\n"
     ]
    }
   ],
   "source": [
    "#¿Cuántas veces esta semana llega la temperatura a la t_max? ¿Y cuántas a la t_min?\n",
    "print(temperaturas.count(max(temperaturas)))"
   ]
  },
  {
   "cell_type": "code",
   "execution_count": 1260,
   "id": "f4e76dc1",
   "metadata": {},
   "outputs": [
    {
     "name": "stdout",
     "output_type": "stream",
     "text": [
      "1\n"
     ]
    }
   ],
   "source": [
    "print(temperaturas.count(min(temperaturas)))"
   ]
  },
  {
   "cell_type": "code",
   "execution_count": 1261,
   "id": "a33a109e",
   "metadata": {},
   "outputs": [],
   "source": [
    "#La lista dias_en contiene 'monday', 'tuesday', 'wednesday', 'thursday', 'friday', 'saturday', y 'sunday'.\n",
    "dias = [\"monday\", \"tuesday\", \"wednesday\", \"thursday\", \"friday\", \"saturday\", \"sunday\"]"
   ]
  },
  {
   "cell_type": "code",
   "execution_count": 1262,
   "id": "7d3914e4",
   "metadata": {},
   "outputs": [],
   "source": [
    "#Define temperaturas_diciembre 👇🏽:\n",
    "temperaturas_diciembre = [10, 10, 13, 14, 12, 15, \n",
    "                        12, 11, 13, 17, 18, 15, \n",
    "                        15, 17, 17, 13, 13, 11,\n",
    "                        12, 10, 12, 14, 12, 12,\n",
    "                        11, 12, 16, 16, 14, 17, 18]"
   ]
  },
  {
   "cell_type": "code",
   "execution_count": 1263,
   "id": "81920525",
   "metadata": {},
   "outputs": [
    {
     "data": {
      "text/plain": [
       "'saturday'"
      ]
     },
     "execution_count": 1263,
     "metadata": {},
     "output_type": "execute_result"
    }
   ],
   "source": [
    "#>¿Cuál es el penúltimo día de la semana?\n",
    "dias[-2]"
   ]
  },
  {
   "cell_type": "code",
   "execution_count": 1264,
   "id": "9bd791a3",
   "metadata": {},
   "outputs": [
    {
     "data": {
      "text/plain": [
       "18"
      ]
     },
     "execution_count": 1264,
     "metadata": {},
     "output_type": "execute_result"
    }
   ],
   "source": [
    "#¿Cuál es el último elemento de la lista de temperaturas de diciembre?\n",
    "temperaturas_diciembre[-1]"
   ]
  },
  {
   "cell_type": "code",
   "execution_count": 1265,
   "id": "ef76fcf7",
   "metadata": {},
   "outputs": [
    {
     "data": {
      "text/plain": [
       "True"
      ]
     },
     "execution_count": 1265,
     "metadata": {},
     "output_type": "execute_result"
    }
   ],
   "source": [
    "#¿Está 'friday' en la lista de días en inglés? Si está, ¿dónde?\n",
    "\"friday\" in dias"
   ]
  },
  {
   "cell_type": "code",
   "execution_count": 1266,
   "id": "31fd80b9",
   "metadata": {},
   "outputs": [
    {
     "data": {
      "text/plain": [
       "4"
      ]
     },
     "execution_count": 1266,
     "metadata": {},
     "output_type": "execute_result"
    }
   ],
   "source": [
    "dias.index(\"friday\")"
   ]
  },
  {
   "cell_type": "code",
   "execution_count": 1267,
   "id": "745621a3",
   "metadata": {},
   "outputs": [
    {
     "data": {
      "text/plain": [
       "18"
      ]
     },
     "execution_count": 1267,
     "metadata": {},
     "output_type": "execute_result"
    }
   ],
   "source": [
    "#¿Cuál era la temperatura máxima en diciembre?\n",
    "max(temperaturas_diciembre)"
   ]
  },
  {
   "cell_type": "code",
   "execution_count": 1268,
   "id": "4b19e6d6",
   "metadata": {},
   "outputs": [
    {
     "data": {
      "text/plain": [
       "2"
      ]
     },
     "execution_count": 1268,
     "metadata": {},
     "output_type": "execute_result"
    }
   ],
   "source": [
    "#Encuentra el índice de 'miércoles' en dias_es.\n",
    "dias_es = [\"lunes\", \"martes\", \"miercoles\", \"jueves\", \"viernes\", \"sabado\", \"domingo\"]\n",
    "dias_es.index(\"miercoles\")"
   ]
  },
  {
   "cell_type": "code",
   "execution_count": 1269,
   "id": "c9a8d02c",
   "metadata": {},
   "outputs": [
    {
     "name": "stdout",
     "output_type": "stream",
     "text": [
      "La temperatura máxima esta semana será 18 grados, que ocurrirá en dia(s). El día más frío tendrá una temperatura máxima de 10, que ocurriá en dia(s)\n"
     ]
    }
   ],
   "source": [
    "#Imprime esta frase en pantalla: 'La temperatura máxima esta semana será 14 ºC, que ocurrirá en 1 días(s). \n",
    "# El día más frío tendrá una temperatura máxima de 10 ºC, que ocurrirá en 2 día(s).\n",
    "print(f\"La temperatura máxima esta semana será {max(temperaturas_diciembre)} grados, que ocurrirá en dia(s). El día más frío tendrá una temperatura máxima de {min(temperaturas_diciembre)}, que ocurriá en dia(s)\")"
   ]
  },
  {
   "cell_type": "code",
   "execution_count": 1270,
   "id": "501f0e9c",
   "metadata": {},
   "outputs": [],
   "source": [
    "#Crea una tupla persona1 para juntar los siguientes datos: 61 kg, 1.54 m altura, pelo marrón, sin usar paréntesis. \n",
    "# (Serán del tipo int, float y str.)\n",
    "persona1 = 61, 1.54, \"pelo marrón\""
   ]
  },
  {
   "cell_type": "code",
   "execution_count": 1271,
   "id": "fd6635f9",
   "metadata": {},
   "outputs": [],
   "source": [
    "#Crea una tupla para la persona2 de 68 kg, 1.65 m y pelo rubio, usando paréntesis.\n",
    "persona2 = (68, 1.65, \"pelo rubio\")"
   ]
  },
  {
   "cell_type": "code",
   "execution_count": 1272,
   "id": "bf19fd21",
   "metadata": {},
   "outputs": [],
   "source": [
    "#Crea una lista talla que recompila 'M', 42, y 39.\n",
    "talla = [\"M\", 42, 39]"
   ]
  },
  {
   "cell_type": "code",
   "execution_count": 1273,
   "id": "890fa088",
   "metadata": {},
   "outputs": [
    {
     "data": {
      "text/plain": [
       "('M', 42, 39)"
      ]
     },
     "execution_count": 1273,
     "metadata": {},
     "output_type": "execute_result"
    }
   ],
   "source": [
    "#Convierte la lista talla a una tupla.\n",
    "tuple(talla)"
   ]
  },
  {
   "cell_type": "code",
   "execution_count": 1274,
   "id": "8ccb143e",
   "metadata": {},
   "outputs": [
    {
     "data": {
      "text/plain": [
       "(61, 1.54, 'pelo marrón', 68, 1.65, 'pelo rubio')"
      ]
     },
     "execution_count": 1274,
     "metadata": {},
     "output_type": "execute_result"
    }
   ],
   "source": [
    "#Une a la tupla de persona1 los datos en talla, para tener una única tupla.\n",
    "persona = persona1 + persona2\n",
    "persona"
   ]
  },
  {
   "cell_type": "code",
   "execution_count": 1275,
   "id": "d14d8cb0",
   "metadata": {},
   "outputs": [
    {
     "data": {
      "text/plain": [
       "(61, 1.54, 'color', 68, 1.65, 'pelo rubio')"
      ]
     },
     "execution_count": 1275,
     "metadata": {},
     "output_type": "execute_result"
    }
   ],
   "source": [
    "#Saca de persona2 el contenido del tercer elemento y llámalo color.\n",
    "personas = list(persona)\n",
    "personas[2] = \"color\"\n",
    "personas = tuple(personas)\n",
    "personas"
   ]
  },
  {
   "cell_type": "code",
   "execution_count": 1276,
   "id": "b769d225",
   "metadata": {},
   "outputs": [
    {
     "data": {
      "text/plain": [
       "3"
      ]
     },
     "execution_count": 1276,
     "metadata": {},
     "output_type": "execute_result"
    }
   ],
   "source": [
    "#¿Cuántos elementos hay ahora en persona1? (Es decir, ¿cuál es su longitud?)\n",
    "len(persona1)"
   ]
  },
  {
   "cell_type": "code",
   "execution_count": 1277,
   "id": "6e478086",
   "metadata": {},
   "outputs": [
    {
     "name": "stdout",
     "output_type": "stream",
     "text": [
      "pelo marrón\n"
     ]
    }
   ],
   "source": [
    "#Crea las variables peso, altura, color_pelo y llénalas con el contenido de persona1. Imprime color_pelo para comprobar el resultado.\n",
    "peso = persona1[0]\n",
    "altura = persona1[1]\n",
    "color_pelo = persona1[2]\n",
    "print(color_pelo)"
   ]
  },
  {
   "cell_type": "code",
   "execution_count": 1278,
   "id": "a8798b28",
   "metadata": {},
   "outputs": [
    {
     "name": "stdout",
     "output_type": "stream",
     "text": [
      "[(61, 1.54, 'pelo marrón'), (68, 1.65, 'pelo rubio')]\n"
     ]
    }
   ],
   "source": [
    "#Crea el zip personas con persona1 y persona2.\n",
    "zip_personas = (persona1, persona2)\n",
    "print(list(zip_personas))"
   ]
  },
  {
   "cell_type": "code",
   "execution_count": 1279,
   "id": "917c564e",
   "metadata": {},
   "outputs": [],
   "source": [
    "#¿Cuántas \"elementos\" tiene personas? ¿Por qué?"
   ]
  },
  {
   "cell_type": "code",
   "execution_count": 1280,
   "id": "7d54eed2",
   "metadata": {},
   "outputs": [
    {
     "data": {
      "text/plain": [
       "6"
      ]
     },
     "execution_count": 1280,
     "metadata": {},
     "output_type": "execute_result"
    }
   ],
   "source": [
    "len(personas) #3 elementos de cada lista"
   ]
  },
  {
   "cell_type": "code",
   "execution_count": 1281,
   "id": "750283ed",
   "metadata": {},
   "outputs": [
    {
     "data": {
      "text/plain": [
       "(61, 1.54, 'pelo marrón')"
      ]
     },
     "execution_count": 1281,
     "metadata": {},
     "output_type": "execute_result"
    }
   ],
   "source": [
    "#Crea una tupla etiquetas con 'peso', 'altura', y 'color_pelo'.\n",
    "etiquetas = peso, altura, color_pelo\n",
    "etiquetas"
   ]
  },
  {
   "cell_type": "code",
   "execution_count": 1282,
   "id": "8b30abaf",
   "metadata": {},
   "outputs": [
    {
     "name": "stdout",
     "output_type": "stream",
     "text": [
      "[(61, 61, 68), (1.54, 1.54, 1.65), ('pelo marrón', 'pelo marrón', 'pelo rubio')]\n"
     ]
    }
   ],
   "source": [
    "#Crea al zip de etiquetas, persona1, y persona2, llamado \"todo\".\n",
    "todo = zip(etiquetas, persona1, persona2)\n",
    "print(list(todo))"
   ]
  },
  {
   "cell_type": "code",
   "execution_count": 1283,
   "id": "4450da9c",
   "metadata": {},
   "outputs": [
    {
     "ename": "AttributeError",
     "evalue": "'tuple' object has no attribute 'sort'",
     "output_type": "error",
     "traceback": [
      "\u001b[1;31m---------------------------------------------------------------------------\u001b[0m",
      "\u001b[1;31mAttributeError\u001b[0m                            Traceback (most recent call last)",
      "Cell \u001b[1;32mIn[1283], line 2\u001b[0m\n\u001b[0;32m      1\u001b[0m \u001b[38;5;66;03m#Ordena las propiedades de la variable personas alfabéticamente. ¿Puedes? ¿Por qué?\u001b[39;00m\n\u001b[1;32m----> 2\u001b[0m personas\u001b[38;5;241m.\u001b[39msort()\n",
      "\u001b[1;31mAttributeError\u001b[0m: 'tuple' object has no attribute 'sort'"
     ]
    }
   ],
   "source": [
    "#Ordena las propiedades de la variable personas alfabéticamente. ¿Puedes? ¿Por qué?\n",
    "personas.sort() # no se puede, hay varios tipos de datos"
   ]
  },
  {
   "cell_type": "markdown",
   "id": "ea8ff3eb",
   "metadata": {},
   "source": [
    "Diccionarios y sets"
   ]
  },
  {
   "cell_type": "code",
   "execution_count": null,
   "id": "6b234abc",
   "metadata": {},
   "outputs": [
    {
     "data": {
      "text/plain": [
       "{'01/01': 'Año Nuevo',\n",
       " '06/01': 'Epifanía del Señor',\n",
       " '15/04': 'Viernes Santo',\n",
       " '15/08': 'Asunción de la Virgen',\n",
       " '12/10': 'Fiesta Nacional de España',\n",
       " '01/11': 'Todos los Santos',\n",
       " '06/12': 'Día de la Constitución Española',\n",
       " '08/12': 'Inmaculada Concepción'}"
      ]
     },
     "execution_count": 425,
     "metadata": {},
     "output_type": "execute_result"
    }
   ],
   "source": [
    "\n",
    "#Crea el diccionario festivos con las fechas como claves y los nombres como valores: \n",
    "# 01/01: Año Nuevo, 06/01: Epifanía del Señor, 15/04: Viernes Santo, \n",
    "# 15/08: Asunción de la Virgen, 12/10: Fiesta Nacional de España, \n",
    "# 01/11: Todos los Santos, 06/12: Día de la Constitución Española, \n",
    "# y 08/12: Inmaculada Concepción.\n",
    "festivos = {\"01/01\" : \"Año Nuevo\", \"06/01\": \"Epifanía del Señor\", \"15/04\": \"Viernes Santo\", \"15/08\": \"Asunción de la Virgen\", \"12/10\": \"Fiesta Nacional de España\", \"01/11\": \"Todos los Santos\", \"06/12\": \"Día de la Constitución Española\",\"08/12\": \"Inmaculada Concepción\"}\n",
    "festivos\n"
   ]
  },
  {
   "cell_type": "code",
   "execution_count": null,
   "id": "d702ec85",
   "metadata": {},
   "outputs": [
    {
     "data": {
      "text/plain": [
       "{'Bélgica': 'Philippe',\n",
       " 'Dinamarca': 'Margrethe II',\n",
       " 'Holanda': 'Beatrix',\n",
       " 'Noruega': 'Harald V',\n",
       " 'España': 'Felipe VI',\n",
       " 'Reino Unido': 'Carlos III'}"
      ]
     },
     "execution_count": 426,
     "metadata": {},
     "output_type": "execute_result"
    }
   ],
   "source": [
    "#Crea el diccionario monarcas con los países como claves y los nombres como valores: \n",
    "# Bélgica: Philippe, Dinamarca: Margrethe II, Holanda: Beatrix, Noruega: Harald V, España: Felipe VI, Reino Unido: Carlos III\n",
    "monarcas = {\"Bélgica\": \"Philippe\", \"Dinamarca\": \"Margrethe II\", \"Holanda\": \"Beatrix\", \"Noruega\": \"Harald V\", \"España\": \"Felipe VI\", \"Reino Unido\": \"Carlos III\"}\n",
    "monarcas"
   ]
  },
  {
   "cell_type": "code",
   "execution_count": null,
   "id": "dd62d121",
   "metadata": {},
   "outputs": [
    {
     "data": {
      "text/plain": [
       "'Viernes Santo'"
      ]
     },
     "execution_count": 431,
     "metadata": {},
     "output_type": "execute_result"
    }
   ],
   "source": [
    "#¿Qué festivo hay el 15/04?\n",
    "festivos.get(\"15/04\")\n"
   ]
  },
  {
   "cell_type": "code",
   "execution_count": null,
   "id": "39d22d9e",
   "metadata": {},
   "outputs": [
    {
     "data": {
      "text/plain": [
       "{'Bélgica': 'Philippe',\n",
       " 'Dinamarca': 'Margrethe II',\n",
       " 'Holanda': 'Willem-Alexander',\n",
       " 'Noruega': 'Harald V',\n",
       " 'España': 'Felipe VI',\n",
       " 'Reino Unido': 'Carlos III'}"
      ]
     },
     "execution_count": 434,
     "metadata": {},
     "output_type": "execute_result"
    }
   ],
   "source": [
    "#La reina 'Beatrix' abdicó, ahora es el rey 'Willem-Alexander'. Actualiza el dict.\n",
    "nuev = {\"Holanda\": \"Willem-Alexander\"}\n",
    "monarcas.update(nuev)\n",
    "monarcas"
   ]
  },
  {
   "cell_type": "code",
   "execution_count": null,
   "id": "82ac7789",
   "metadata": {},
   "outputs": [
    {
     "data": {
      "text/plain": [
       "{'Bélgica': 'Philippe',\n",
       " 'Dinamarca': 'Margrethe II',\n",
       " 'Holanda': 'Willem-Alexander',\n",
       " 'Noruega': 'Harald V',\n",
       " 'España': 'Felipe VI',\n",
       " 'Reino Unido': 'Carlos III',\n",
       " 'Luxemburgo': 'Henri'}"
      ]
     },
     "execution_count": 435,
     "metadata": {},
     "output_type": "execute_result"
    }
   ],
   "source": [
    "#El rey de Luxemburgo se llama Henri. Añadelo al dict usando .update().\n",
    "nuevo = {\"Luxemburgo\":\"Henri\"}\n",
    "monarcas.update(nuevo)\n",
    "monarcas"
   ]
  },
  {
   "cell_type": "code",
   "execution_count": null,
   "id": "c12634e0",
   "metadata": {},
   "outputs": [
    {
     "data": {
      "text/plain": [
       "7"
      ]
     },
     "execution_count": 436,
     "metadata": {},
     "output_type": "execute_result"
    }
   ],
   "source": [
    "#¿Cuántos países están definidos en monarcas?\n",
    "len(monarcas)"
   ]
  },
  {
   "cell_type": "code",
   "execution_count": null,
   "id": "9eed2400",
   "metadata": {},
   "outputs": [
    {
     "data": {
      "text/plain": [
       "False"
      ]
     },
     "execution_count": 437,
     "metadata": {},
     "output_type": "execute_result"
    }
   ],
   "source": [
    "#¿Es 'Monaco' uno de ellos?\n",
    "\"monaco\" in monarcas"
   ]
  },
  {
   "cell_type": "code",
   "execution_count": null,
   "id": "d60754f7",
   "metadata": {},
   "outputs": [
    {
     "data": {
      "text/plain": [
       "True"
      ]
     },
     "execution_count": 440,
     "metadata": {},
     "output_type": "execute_result"
    }
   ],
   "source": [
    "#¿Es verdad que nos olvidamos de poner 'Suecia'? Compruébalo de una manera en que obtengas un True o False.\n",
    "\"suecia\" not in monarcas"
   ]
  },
  {
   "cell_type": "code",
   "execution_count": null,
   "id": "c749f3d0",
   "metadata": {},
   "outputs": [
    {
     "data": {
      "text/plain": [
       "['Bélgica',\n",
       " 'Dinamarca',\n",
       " 'Holanda',\n",
       " 'Noruega',\n",
       " 'España',\n",
       " 'Reino Unido',\n",
       " 'Luxemburgo']"
      ]
     },
     "execution_count": 442,
     "metadata": {},
     "output_type": "execute_result"
    }
   ],
   "source": [
    "#Saca una lista de todos los países en el dict monarcas.\n",
    "list(monarcas.keys())"
   ]
  },
  {
   "cell_type": "code",
   "execution_count": null,
   "id": "857d03c6",
   "metadata": {},
   "outputs": [
    {
     "data": {
      "text/plain": [
       "['Año Nuevo',\n",
       " 'Epifanía del Señor',\n",
       " 'Viernes Santo',\n",
       " 'Asunción de la Virgen',\n",
       " 'Fiesta Nacional de España',\n",
       " 'Todos los Santos',\n",
       " 'Día de la Constitución Española',\n",
       " 'Inmaculada Concepción']"
      ]
     },
     "execution_count": 443,
     "metadata": {},
     "output_type": "execute_result"
    }
   ],
   "source": [
    "#Saca una lista de los nombres de los festivos.\n",
    "list(festivos.values())"
   ]
  },
  {
   "cell_type": "code",
   "execution_count": null,
   "id": "93aa2e55",
   "metadata": {},
   "outputs": [
    {
     "name": "stdout",
     "output_type": "stream",
     "text": [
      "{'01/01': 'Año Nuevo', '06/01': 'Epifanía del Señor', '15/04': 'Viernes Santo', '15/08': 'Asunción de la Virgen', '12/10': 'Fiesta Nacional de España', '01/11': 'Todos los Santos', '06/12': 'Día de la Constitución Española', '08/12': 'Inmaculada Concepción'}\n"
     ]
    }
   ],
   "source": [
    "#Imprime el diccionario de festivos.\n",
    "print(festivos)"
   ]
  },
  {
   "cell_type": "code",
   "execution_count": null,
   "id": "a4f8ac49",
   "metadata": {},
   "outputs": [
    {
     "name": "stdout",
     "output_type": "stream",
     "text": [
      "[('01/01', 'Año Nuevo'), ('06/01', 'Epifanía del Señor'), ('15/04', 'Viernes Santo'), ('15/08', 'Asunción de la Virgen'), ('12/10', 'Fiesta Nacional de España'), ('01/11', 'Todos los Santos'), ('06/12', 'Día de la Constitución Española'), ('08/12', 'Inmaculada Concepción')]\n"
     ]
    }
   ],
   "source": [
    "#Imprime una lista de tuplas de todos los elementos que hay en festivos.\n",
    "print(list(festivos.items()))"
   ]
  },
  {
   "cell_type": "code",
   "execution_count": null,
   "id": "fa0b4e66",
   "metadata": {},
   "outputs": [
    {
     "data": {
      "text/plain": [
       "{'Bélgica': 'Philippe',\n",
       " 'Dinamarca': 'Margrethe II',\n",
       " 'Holanda': 'Willem-Alexander',\n",
       " 'Noruega': 'Harald V',\n",
       " 'España': 'Felipe VI',\n",
       " 'Reino Unido': 'Carlos III',\n",
       " 'Luxemburgo': 'Henri'}"
      ]
     },
     "execution_count": 448,
     "metadata": {},
     "output_type": "execute_result"
    }
   ],
   "source": [
    "#Copia monarcas a monarcas2010.\n",
    "monarcas2010 = monarcas.copy()\n",
    "monarcas2010"
   ]
  },
  {
   "cell_type": "code",
   "execution_count": null,
   "id": "8635e1cc",
   "metadata": {},
   "outputs": [
    {
     "data": {
      "text/plain": [
       "{'Bélgica': 'Philippe',\n",
       " 'Dinamarca': 'Margrethe II',\n",
       " 'Holanda': 'Willem-Alexander',\n",
       " 'Noruega': 'Harald V',\n",
       " 'Reino Unido': 'Carlos III',\n",
       " 'Luxemburgo': 'Henri'}"
      ]
     },
     "execution_count": 450,
     "metadata": {},
     "output_type": "execute_result"
    }
   ],
   "source": [
    "#Quita España de monarcas2010.\n",
    "monarcas2010.pop(\"España\")\n",
    "monarcas2010"
   ]
  },
  {
   "cell_type": "code",
   "execution_count": null,
   "id": "a3942ab1",
   "metadata": {},
   "outputs": [
    {
     "data": {
      "text/plain": [
       "{'Bélgica': 'Philippe',\n",
       " 'Dinamarca': 'Margrethe II',\n",
       " 'Holanda': 'Willem-Alexander',\n",
       " 'Noruega': 'Harald V',\n",
       " 'Reino Unido': 'Carlos III'}"
      ]
     },
     "execution_count": 451,
     "metadata": {},
     "output_type": "execute_result"
    }
   ],
   "source": [
    "#Quita el último elemento de monarcas2010.\n",
    "monarcas2010.popitem()\n",
    "monarcas2010"
   ]
  },
  {
   "cell_type": "code",
   "execution_count": null,
   "id": "7b1e3d03",
   "metadata": {},
   "outputs": [
    {
     "data": {
      "text/plain": [
       "{}"
      ]
     },
     "execution_count": 506,
     "metadata": {},
     "output_type": "execute_result"
    }
   ],
   "source": [
    "#Vacia el dict monarcas2010.\n",
    "monarcas2010.clear()\n",
    "monarcas2010"
   ]
  },
  {
   "cell_type": "code",
   "execution_count": null,
   "id": "a2a147e4",
   "metadata": {},
   "outputs": [
    {
     "data": {
      "text/plain": [
       "'Epifanía del Señor'"
      ]
     },
     "execution_count": 508,
     "metadata": {},
     "output_type": "execute_result"
    }
   ],
   "source": [
    "#¿Qué festivo hay el 06/01?\n",
    "festivos.get(\"06/01\")"
   ]
  },
  {
   "cell_type": "code",
   "execution_count": null,
   "id": "1bbc9c54",
   "metadata": {},
   "outputs": [
    {
     "data": {
      "text/plain": [
       "'Día Internacional de la Mujer'"
      ]
     },
     "execution_count": 511,
     "metadata": {},
     "output_type": "execute_result"
    }
   ],
   "source": [
    "#Obten el festivo que haya el 08/03, y en su defecto devuélve 'Día Internacional de la Mujer'.\n",
    "festivos.get(\"08/03\", \"Día Internacional de la Mujer\")"
   ]
  },
  {
   "cell_type": "code",
   "execution_count": null,
   "id": "e4bb92b9",
   "metadata": {},
   "outputs": [
    {
     "data": {
      "text/plain": [
       "'Todos los Santos'"
      ]
     },
     "execution_count": 617,
     "metadata": {},
     "output_type": "execute_result"
    }
   ],
   "source": [
    "#Obten el festivo que haya el 31/11,\n",
    "#  y si no existe crea un par de clave-valor nuevo con el valor de 'Todos los Santos'.\n",
    "festivos.setdefault(\"31/11\", \"Todos los Santos\")\n"
   ]
  },
  {
   "cell_type": "code",
   "execution_count": null,
   "id": "1375f383",
   "metadata": {},
   "outputs": [
    {
     "data": {
      "text/plain": [
       "{'01/01': 'Año Nuevo',\n",
       " '06/01': 'Epifanía del Señor',\n",
       " '15/04': 'Viernes Santo',\n",
       " '15/08': 'Asunción de la Virgen',\n",
       " '12/10': 'Fiesta Nacional de España',\n",
       " '01/11': 'Todos los Santos',\n",
       " '06/12': 'Día de la Constitución Española',\n",
       " '08/12': 'Inmaculada Concepción',\n",
       " '31/11': 'Todos los Santos'}"
      ]
     },
     "execution_count": 569,
     "metadata": {},
     "output_type": "execute_result"
    }
   ],
   "source": [
    "\n",
    "festivos"
   ]
  },
  {
   "cell_type": "code",
   "execution_count": null,
   "id": "1e748154",
   "metadata": {},
   "outputs": [],
   "source": [
    "#Define la lista\n",
    "\n",
    "temperaturas_diciembre = [10, 10, 13, 14, 12, 15, \n",
    "                          12, 11, 13, 17, 18, 15, \n",
    "                          15, 17, 17, 13, 13, 11,\n",
    "                          12, 10, 12, 14, 12, 12,\n",
    "                          11, 12, 16, 16, 14, 17, 18]"
   ]
  },
  {
   "cell_type": "code",
   "execution_count": null,
   "id": "d4b71aa1",
   "metadata": {},
   "outputs": [],
   "source": [
    "#Conviértala en un set llamado diciembre.\n",
    "diciembre =set(temperaturas_diciembre)"
   ]
  },
  {
   "cell_type": "code",
   "execution_count": null,
   "id": "e5e69f5f",
   "metadata": {},
   "outputs": [],
   "source": [
    "#Piensa en 6 colores y almacenalos en un set llamado colores.\n",
    "colores2 =set(colores)"
   ]
  },
  {
   "cell_type": "code",
   "execution_count": null,
   "id": "44ae26cc",
   "metadata": {},
   "outputs": [
    {
     "data": {
      "text/plain": [
       "{'azul', 'fucsia', 'lila', 'morado', 'plateado', 'rojo', 'verde'}"
      ]
     },
     "execution_count": 715,
     "metadata": {},
     "output_type": "execute_result"
    }
   ],
   "source": [
    "#Añade 'lila' a colores.\n",
    "colores2.add(\"lila\")\n",
    "colores2"
   ]
  },
  {
   "cell_type": "code",
   "execution_count": null,
   "id": "2f9a78d0",
   "metadata": {},
   "outputs": [],
   "source": [
    "#Añade 'azul', 'rojo', y 'granate' a colores usando .update().\n",
    "actualizacion = [\"azul\", \"rojo\", \"granate\"]\n",
    "colores2.update(actualizacion)\n",
    "\n",
    "\n"
   ]
  },
  {
   "cell_type": "code",
   "execution_count": null,
   "id": "6b24515c",
   "metadata": {},
   "outputs": [
    {
     "data": {
      "text/plain": [
       "True"
      ]
     },
     "execution_count": 916,
     "metadata": {},
     "output_type": "execute_result"
    }
   ],
   "source": [
    "#Tu set de colores, ¿tiene 'verde'?\n",
    "\"verde\" in colores2"
   ]
  },
  {
   "cell_type": "code",
   "execution_count": null,
   "id": "3f2313e1",
   "metadata": {},
   "outputs": [
    {
     "data": {
      "text/plain": [
       "False"
      ]
     },
     "execution_count": 917,
     "metadata": {},
     "output_type": "execute_result"
    }
   ],
   "source": [
    "#¿Y tiene 'ROJO'?\n",
    "\"ROJO\" in colores2"
   ]
  },
  {
   "cell_type": "code",
   "execution_count": null,
   "id": "c1193a8b",
   "metadata": {},
   "outputs": [
    {
     "data": {
      "text/plain": [
       "{10, 11, 12, 13, 14, 15, 16, 17, 18}"
      ]
     },
     "execution_count": 920,
     "metadata": {},
     "output_type": "execute_result"
    }
   ],
   "source": [
    "#Define el set enero para que sea igual a diciembre.\n",
    "temperaturas_enero = [10, 10, 13, 14, 12, 15, \n",
    "                          12, 11, 13, 17, 18, 15, \n",
    "                          15, 17, 17, 13, 13, 11,\n",
    "                          12, 10, 12, 14, 12, 12,\n",
    "                          11, 12, 16, 16, 14, 17, 18]\n",
    "enero = set(temperaturas_enero)\n",
    "enero\n"
   ]
  },
  {
   "cell_type": "code",
   "execution_count": null,
   "id": "a8445f81",
   "metadata": {},
   "outputs": [
    {
     "name": "stdout",
     "output_type": "stream",
     "text": [
      "{10, 11, 12, 13, 14, 15, 16}\n"
     ]
    }
   ],
   "source": [
    "#Quita las temperaturas 17, y 18 de enero.\n",
    "enero.remove(18) #da error si lo corro de nuevo (ya 17, 18 no existen)\n",
    "print(enero)"
   ]
  },
  {
   "cell_type": "code",
   "execution_count": null,
   "id": "24d13250",
   "metadata": {},
   "outputs": [
    {
     "data": {
      "text/plain": [
       "{10, 11, 12, 13, 14, 15, 16, 17, 18}"
      ]
     },
     "execution_count": 1173,
     "metadata": {},
     "output_type": "execute_result"
    }
   ],
   "source": [
    "#¿Cuántas temperaturas distintas había en diciembre?\n",
    "diciembre.difference()"
   ]
  },
  {
   "cell_type": "code",
   "execution_count": null,
   "id": "13cd1e64",
   "metadata": {},
   "outputs": [
    {
     "data": {
      "text/plain": [
       "{10, 11, 12, 13, 14, 15, 16}"
      ]
     },
     "execution_count": 1174,
     "metadata": {},
     "output_type": "execute_result"
    }
   ],
   "source": [
    "#¿Y cuántas en enero?\n",
    "enero.difference()"
   ]
  },
  {
   "cell_type": "code",
   "execution_count": null,
   "id": "e37c06b9",
   "metadata": {},
   "outputs": [
    {
     "data": {
      "text/plain": [
       "{17, 18}"
      ]
     },
     "execution_count": 1235,
     "metadata": {},
     "output_type": "execute_result"
    }
   ],
   "source": [
    "#Identifica los elementos que hay en diciembre que no están en enero.\n",
    "diciembre - enero\n"
   ]
  },
  {
   "cell_type": "code",
   "execution_count": null,
   "id": "7a6beeed",
   "metadata": {},
   "outputs": [
    {
     "data": {
      "text/plain": [
       "set()"
      ]
     },
     "execution_count": 1236,
     "metadata": {},
     "output_type": "execute_result"
    }
   ],
   "source": [
    "#Identifica los elementos que hay en enero que no están en diciembre.\n",
    "enero - diciembre"
   ]
  },
  {
   "cell_type": "code",
   "execution_count": null,
   "id": "6ed7fc4e",
   "metadata": {},
   "outputs": [
    {
     "data": {
      "text/plain": [
       "{10, 11, 12, 13, 14, 15, 16}"
      ]
     },
     "execution_count": 1183,
     "metadata": {},
     "output_type": "execute_result"
    }
   ],
   "source": [
    "#Identifica los elementos que tienen en común diciembre y enero.\n",
    "diciembre.intersection(enero)"
   ]
  },
  {
   "cell_type": "code",
   "execution_count": null,
   "id": "1a0b82b5",
   "metadata": {},
   "outputs": [
    {
     "data": {
      "text/plain": [
       "{'amarillo',\n",
       " 'azul',\n",
       " 'cyan',\n",
       " 'e',\n",
       " 'fucsia',\n",
       " 'g',\n",
       " 'granate',\n",
       " 'j',\n",
       " 'l',\n",
       " 'lila',\n",
       " 'marrón',\n",
       " 'morado',\n",
       " 'n',\n",
       " 'o',\n",
       " 'plateado',\n",
       " 'r',\n",
       " 'rojo',\n",
       " 't',\n",
       " 'u',\n",
       " 'verde',\n",
       " 'z'}"
      ]
     },
     "execution_count": 1184,
     "metadata": {},
     "output_type": "execute_result"
    }
   ],
   "source": [
    "#Identifica la diferencia simétrica de colores y {'marrón','amarillo','cyan'}. ¿Qué significa este resultado?\n",
    "colores2 ^ {'marrón','amarillo','cyan'} #no tienen nada en común"
   ]
  },
  {
   "cell_type": "code",
   "execution_count": null,
   "id": "1ac8b4fb",
   "metadata": {},
   "outputs": [
    {
     "data": {
      "text/plain": [
       "False"
      ]
     },
     "execution_count": 1185,
     "metadata": {},
     "output_type": "execute_result"
    }
   ],
   "source": [
    "#¿Son disjoint diciembre y enero? ¿Por qué (no)?\n",
    "diciembre.isdisjoint(enero) #tienen elementos en común"
   ]
  },
  {
   "cell_type": "code",
   "execution_count": null,
   "id": "028a8199",
   "metadata": {},
   "outputs": [
    {
     "data": {
      "text/plain": [
       "False"
      ]
     },
     "execution_count": 1186,
     "metadata": {},
     "output_type": "execute_result"
    }
   ],
   "source": [
    "#¿Es {'rojo','azul'} un superset de colores?\n",
    "{'rojo','azul'}.issuperset(colores2)"
   ]
  },
  {
   "cell_type": "code",
   "execution_count": null,
   "id": "58a8a5b3",
   "metadata": {},
   "outputs": [
    {
     "data": {
      "text/plain": [
       "True"
      ]
     },
     "execution_count": 1187,
     "metadata": {},
     "output_type": "execute_result"
    }
   ],
   "source": [
    "#¿Y un subset?\n",
    "{'rojo','azul'}.issubset(colores2)"
   ]
  }
 ],
 "metadata": {
  "kernelspec": {
   "display_name": "base",
   "language": "python",
   "name": "python3"
  },
  "language_info": {
   "codemirror_mode": {
    "name": "ipython",
    "version": 3
   },
   "file_extension": ".py",
   "mimetype": "text/x-python",
   "name": "python",
   "nbconvert_exporter": "python",
   "pygments_lexer": "ipython3",
   "version": "3.12.9"
  }
 },
 "nbformat": 4,
 "nbformat_minor": 5
}
