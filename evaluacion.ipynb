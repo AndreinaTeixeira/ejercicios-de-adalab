{
 "cells": [
  {
   "cell_type": "markdown",
   "id": "428a4ec0",
   "metadata": {},
   "source": [
    "ESTRUCTURAS PRINCIPALES"
   ]
  },
  {
   "cell_type": "code",
   "execution_count": 180,
   "id": "ddb2d7f8",
   "metadata": {},
   "outputs": [
    {
     "data": {
      "text/plain": [
       "[]"
      ]
     },
     "execution_count": 180,
     "metadata": {},
     "output_type": "execute_result"
    }
   ],
   "source": [
    "stock = list() #lista de diccionarios vacía. Una estructura para almacenar los productos en el inventario.\n",
    "stock\n",
    "\n"
   ]
  },
  {
   "cell_type": "code",
   "execution_count": 181,
   "id": "b5bbe997",
   "metadata": {},
   "outputs": [
    {
     "data": {
      "text/plain": [
       "{}"
      ]
     },
     "execution_count": 181,
     "metadata": {},
     "output_type": "execute_result"
    }
   ],
   "source": [
    "clients = {} #diccionario vacío. Una estructura para llevar un registro de los clientes de la tienda\n",
    "clients"
   ]
  },
  {
   "cell_type": "code",
   "execution_count": 182,
   "id": "f65fdf5a",
   "metadata": {},
   "outputs": [
    {
     "data": {
      "text/plain": [
       "float"
      ]
     },
     "execution_count": 182,
     "metadata": {},
     "output_type": "execute_result"
    }
   ],
   "source": [
    "total_sales = 0.0  #Una variable para llevar un registro de las ventas totales de la tienda, iniciado en 0.  (float)\n",
    "type(total_sales)"
   ]
  },
  {
   "cell_type": "markdown",
   "id": "77667933",
   "metadata": {},
   "source": [
    "EJERCICIO 1"
   ]
  },
  {
   "cell_type": "code",
   "execution_count": 183,
   "id": "a0415376",
   "metadata": {},
   "outputs": [],
   "source": [
    "#Esta función agrega un producto al inventario o actualiza su cantidad si ya existe\n",
    "\n",
    "def add_product_to_stock(name, price, quantity): #Debe recibir el nombre, precio y cantidad del producto como parámetros.  \n",
    "\n",
    "    price = float(price) #de string a número decimal para luego si se multiplica salga bien\n",
    "    quantity = int(quantity) #de string a número entero para que se haga la sumatoria\n",
    "\n",
    "    for product in stock: #Itera a través del inventario y compara los nombres de los productos con el nombre proporcionado\n",
    "    \n",
    "    #Si el producto ya existe, actualiza la cantidad. \n",
    "\n",
    "        if product[\"Name\"] == name: #\"producto\" es un diccionario, no puedo usar índices para buscar, solo el nombre de la \"key\" (name, quantity)\n",
    "            product[\"Quantity\"] += quantity #suma la cantidad ingresada a la existente para el mismo producto si el nombre coincide\n",
    "            print(f\"Product '{name}' already exists. Quantity was updated successfully.\") #mensaje de éxito\n",
    "            print(f\"The following products are in stock currently: {stock}\")\n",
    "            return #fallas con \"else\"\n",
    "    \n",
    "    #Si no existe, agrega un nuevo producto al inventario\n",
    "    #Cada producto debe ser representado como un diccionario con las siguientes claves: `'nombre'`, `'precio'`, y'cantidad'`.\n",
    "\n",
    "    stock.append({\"Name\": name, \"Price\": price, \"Quantity\": quantity}) #método \"append\" para agregar porque stock es una lista, quiero que salga las \"keys\" para los products del stock y las creo\n",
    "    print (f\"Product '{name}' was created successfully.\")\n",
    "    print(f\"The following products are in stock currently: {stock}\")\n",
    "        "
   ]
  },
  {
   "cell_type": "code",
   "execution_count": 184,
   "id": "eb05d8cb",
   "metadata": {},
   "outputs": [
    {
     "name": "stdout",
     "output_type": "stream",
     "text": [
      "Product 'Dress' was created successfully.\n",
      "The following products are in stock currently: [{'Name': 'Dress', 'Price': 5.0, 'Quantity': 10}]\n"
     ]
    }
   ],
   "source": [
    "stock.clear() #clean previous tests\n",
    "add_product_to_stock(\"Dress\",5,10) #probar añadir producto nuevo"
   ]
  },
  {
   "cell_type": "code",
   "execution_count": 185,
   "id": "c8f65acf",
   "metadata": {},
   "outputs": [
    {
     "name": "stdout",
     "output_type": "stream",
     "text": [
      "Product 'Jeans' was created successfully.\n",
      "The following products are in stock currently: [{'Name': 'Dress', 'Price': 5.0, 'Quantity': 10}, {'Name': 'Jeans', 'Price': 5.0, 'Quantity': 50}]\n"
     ]
    }
   ],
   "source": [
    "add_product_to_stock(\"Jeans\",5,50) #probar añadir producto nuevo\n"
   ]
  },
  {
   "cell_type": "code",
   "execution_count": 186,
   "id": "81a7450b",
   "metadata": {},
   "outputs": [
    {
     "name": "stdout",
     "output_type": "stream",
     "text": [
      "{'Name': 'Dress', 'Price': 5.0, 'Quantity': 10}\n"
     ]
    }
   ],
   "source": [
    "print(stock[0]) #\"stock\" es una lista, puedo buscar cada producto con índice."
   ]
  },
  {
   "cell_type": "code",
   "execution_count": 187,
   "id": "1f1481b0",
   "metadata": {},
   "outputs": [
    {
     "name": "stdout",
     "output_type": "stream",
     "text": [
      "Product 'Dress' already exists. Quantity was updated successfully.\n",
      "The following products are in stock currently: [{'Name': 'Dress', 'Price': 5.0, 'Quantity': 20}, {'Name': 'Jeans', 'Price': 5.0, 'Quantity': 50}]\n"
     ]
    }
   ],
   "source": [
    "add_product_to_stock(\"Dress\",5,10) #pruebo qué pasa al añadir un elemento que ya está en stock\n",
    "#quantity for dress is now 30 (20+10)"
   ]
  },
  {
   "cell_type": "code",
   "execution_count": 188,
   "id": "524346cd",
   "metadata": {},
   "outputs": [
    {
     "name": "stdout",
     "output_type": "stream",
     "text": [
      "Product 'Socks' was created successfully.\n",
      "The following products are in stock currently: [{'Name': 'Dress', 'Price': 5.0, 'Quantity': 20}, {'Name': 'Jeans', 'Price': 5.0, 'Quantity': 50}, {'Name': 'Socks', 'Price': 10.0, 'Quantity': 20}]\n"
     ]
    }
   ],
   "source": [
    "add_product_to_stock(\"Socks\",10,20) #tener más productos en stock para el último ejercicio"
   ]
  },
  {
   "cell_type": "markdown",
   "id": "ec5b19a9",
   "metadata": {},
   "source": [
    "EJERCICIO 2"
   ]
  },
  {
   "cell_type": "code",
   "execution_count": 189,
   "id": "9cfab43d",
   "metadata": {},
   "outputs": [],
   "source": [
    "#`ver_inventario()`: Muestra el inventario de productos con sus detalles.\n",
    "#Debería verse:\n",
    "#```python\n",
    "#Nombre: Camisa, Precio: $20, Cantidad: 50\n",
    "#Nombre: Pantalón, Precio: $30, Cantidad: 30\n",
    "#Nombre: Zapatos, Precio: $50, Cantidad: 40\n",
    "#Nombre: Camisa, Precio: $20, Cantidad: 5\n",
    "\n",
    "def see_stock(): #no lleva argumento, lo quiero ver todo\n",
    "    if stock == []: #si lo coloco dentro del for da error, comprobar si está vacío el stock\n",
    "           print(\"There is no stock.\")\n",
    "           return #se acaba la función, no sigue con el for\n",
    "    for product in stock: #Utiliza un bucle `for` para recorrer el inventario.\n",
    "        name = product[\"Name\"] #tengo que definir las variables porque si no, da error en el print\n",
    "        price = product[\"Price\"] \n",
    "        quantity = product[\"Quantity\"] \n",
    "        if stock != []: #si no está vacío el stock\n",
    "            print(f\"Name: {name}, Price: ${price}, Quantity: {quantity}.\") #Imprime los detalles (nombre, precio, cantidad) de cada producto.\n",
    "         "
   ]
  },
  {
   "cell_type": "code",
   "execution_count": 190,
   "id": "1e1c4a9c",
   "metadata": {},
   "outputs": [
    {
     "name": "stdout",
     "output_type": "stream",
     "text": [
      "Name: Dress, Price: $5.0, Quantity: 20.\n",
      "Name: Jeans, Price: $5.0, Quantity: 50.\n",
      "Name: Socks, Price: $10.0, Quantity: 20.\n"
     ]
    }
   ],
   "source": [
    "see_stock()"
   ]
  },
  {
   "cell_type": "code",
   "execution_count": 191,
   "id": "52d744dd",
   "metadata": {},
   "outputs": [
    {
     "name": "stdout",
     "output_type": "stream",
     "text": [
      "There is no stock.\n"
     ]
    }
   ],
   "source": [
    "stock.clear()\n",
    "see_stock()"
   ]
  },
  {
   "cell_type": "code",
   "execution_count": 192,
   "id": "4550e879",
   "metadata": {},
   "outputs": [
    {
     "name": "stdout",
     "output_type": "stream",
     "text": [
      "Product 'Jeans' was created successfully.\n",
      "The following products are in stock currently: [{'Name': 'Jeans', 'Price': 5.0, 'Quantity': 50}]\n",
      "Product 'Dress' was created successfully.\n",
      "The following products are in stock currently: [{'Name': 'Jeans', 'Price': 5.0, 'Quantity': 50}, {'Name': 'Dress', 'Price': 5.0, 'Quantity': 10}]\n",
      "Product 'Socks' was created successfully.\n",
      "The following products are in stock currently: [{'Name': 'Jeans', 'Price': 5.0, 'Quantity': 50}, {'Name': 'Dress', 'Price': 5.0, 'Quantity': 10}, {'Name': 'Socks', 'Price': 10.0, 'Quantity': 20}]\n"
     ]
    }
   ],
   "source": [
    "add_product_to_stock(\"Jeans\",5,50)\n",
    "add_product_to_stock(\"Dress\",5,10)\n",
    "add_product_to_stock(\"Socks\",10,20)"
   ]
  },
  {
   "cell_type": "markdown",
   "id": "3cc41eb7",
   "metadata": {},
   "source": [
    "EJERCICIO 3"
   ]
  },
  {
   "cell_type": "code",
   "execution_count": 193,
   "id": "89b70203",
   "metadata": {},
   "outputs": [],
   "source": [
    "#buscar_producto(nombre)`: Busca un producto en el inventario por nombre y muestra sus detalles si se encuentra. \n",
    "#Debe mostrar:\n",
    "#```python\n",
    "#Nombre: Camisa, Precio: $20, Cantidad: 40\n",
    "\n",
    "def search_product_by_name(name): # Debe recibir el nombre del producto como parámetro.\n",
    "    for product in stock: #Utiliza un bucle `for` para recorrer el inventario.\n",
    "        if product[\"Name\"] == name: #Compara los nombres de los productos con el nombre proporcionado.\n",
    "            price = product[\"Price\"] #tengo que definir las variables porque si no, da error en el print\n",
    "            quantity = product[\"Quantity\"]\n",
    "            #print(product)  muestra las \"keys\" y no el valor de dólares!!!!!!!\n",
    "            print(f\"Name: {name}, Price: ${price}, Quantity: {quantity}.\")\n",
    "            return\n",
    "    print(f\"Product not found.\") "
   ]
  },
  {
   "cell_type": "code",
   "execution_count": 194,
   "id": "0a61e939",
   "metadata": {},
   "outputs": [
    {
     "name": "stdout",
     "output_type": "stream",
     "text": [
      "Name: Dress, Price: $5.0, Quantity: 10.\n"
     ]
    }
   ],
   "source": [
    "search_product_by_name(\"Dress\")"
   ]
  },
  {
   "cell_type": "code",
   "execution_count": 195,
   "id": "eb5d157e",
   "metadata": {},
   "outputs": [
    {
     "name": "stdout",
     "output_type": "stream",
     "text": [
      "Product not found.\n"
     ]
    }
   ],
   "source": [
    "search_product_by_name(\"tiara\")"
   ]
  },
  {
   "cell_type": "markdown",
   "id": "b8a071be",
   "metadata": {},
   "source": [
    "EJERCICIO 4"
   ]
  },
  {
   "cell_type": "code",
   "execution_count": 196,
   "id": "f6d7b8b5",
   "metadata": {},
   "outputs": [],
   "source": [
    "# `actualizar_stock(nombre, cantidad)`: Actualiza el stock de un producto en el inventario. \n",
    "\n",
    "#Actualiza la cantidad según la entrada del usuario.\n",
    "\n",
    "def update_product(name, quantity=None): # Debe recibir el nombre del producto y la cantidad a agregar o quitar como parámetros. \"None\" acepta que no haya valor, es mejor que usar \"0\".\n",
    "    for product in stock: # Utiliza un bucle `for` para recorrer el inventario.\n",
    "        if product[\"Name\"] == name: # Busca el producto por nombre.\n",
    "                if quantity != None and isinstance(quantity,int): #quiero que no esté vacío y que sea un entero, != \"\" no funciona porque no es string, isinstance vlaida si es un tipo de dato y da true/false como resultado\n",
    "                        product[\"Quantity\"] = quantity #sobreescribir el valor que ya tiene el int\n",
    "                        print(\"Product was updated successfully.\")\n",
    "                        return\n",
    "                elif quantity != None and not isinstance(quantity,int):\n",
    "                      print(\"Please enter a number.\") #si dan un string\n",
    "                      return\n",
    "                else:   \n",
    "                        print(\"No quantity provided.\") #si está vacío o no es un entero\n",
    "                        return\n",
    "    print(\"Product not found.\") #Si el producto no está en el inventario muestra un mensaje indicándolo"
   ]
  },
  {
   "cell_type": "code",
   "execution_count": 197,
   "id": "a8d4e548",
   "metadata": {},
   "outputs": [
    {
     "name": "stdout",
     "output_type": "stream",
     "text": [
      "Product was updated successfully.\n"
     ]
    },
    {
     "data": {
      "text/plain": [
       "[{'Name': 'Jeans', 'Price': 5.0, 'Quantity': 50},\n",
       " {'Name': 'Dress', 'Price': 5.0, 'Quantity': 100},\n",
       " {'Name': 'Socks', 'Price': 10.0, 'Quantity': 20}]"
      ]
     },
     "execution_count": 197,
     "metadata": {},
     "output_type": "execute_result"
    }
   ],
   "source": [
    "update_product(\"Dress\", 100)\n",
    "stock"
   ]
  },
  {
   "cell_type": "code",
   "execution_count": 198,
   "id": "a0094fd1",
   "metadata": {},
   "outputs": [
    {
     "name": "stdout",
     "output_type": "stream",
     "text": [
      "No quantity provided.\n"
     ]
    }
   ],
   "source": [
    "update_product(\"Dress\")"
   ]
  },
  {
   "cell_type": "code",
   "execution_count": 199,
   "id": "f2ce90a6",
   "metadata": {},
   "outputs": [
    {
     "name": "stdout",
     "output_type": "stream",
     "text": [
      "Product not found.\n"
     ]
    }
   ],
   "source": [
    "update_product(\"Panties\", 100)"
   ]
  },
  {
   "cell_type": "code",
   "execution_count": 200,
   "id": "4d2db955",
   "metadata": {},
   "outputs": [
    {
     "name": "stdout",
     "output_type": "stream",
     "text": [
      "Please enter a number.\n"
     ]
    }
   ],
   "source": [
    "update_product(\"Dress\", \"ocho\")"
   ]
  },
  {
   "cell_type": "markdown",
   "id": "74345e6b",
   "metadata": {},
   "source": [
    "EJERCICIO 5"
   ]
  },
  {
   "cell_type": "code",
   "execution_count": 201,
   "id": "047c32db",
   "metadata": {},
   "outputs": [],
   "source": [
    "#eliminar_producto(nombre)`: Elimina un producto del inventario por nombre. \n",
    "\n",
    "def delete_product(name):#Debe recibir el nombre del producto como parámetro.\n",
    "    for product in stock: #Utiliza un bucle `for` para recorrer el inventario.\n",
    "      if product[\"Name\"] == name: # Busca el producto por nombre.\n",
    "           stock.remove(product) #Elimina el producto del inventario si existe. \"Remove\" para eliminar diccionario completo de la lista de diccionarios\n",
    "           print(\"Product was deleted successfully.\")\n",
    "           return\n",
    "    print(\"Product not found.\") #Si el producto no esta en el inventario muestra un mensaje indicándolo\n"
   ]
  },
  {
   "cell_type": "code",
   "execution_count": 202,
   "id": "c91f380a",
   "metadata": {},
   "outputs": [
    {
     "data": {
      "text/plain": [
       "[{'Name': 'Jeans', 'Price': 5.0, 'Quantity': 50},\n",
       " {'Name': 'Dress', 'Price': 5.0, 'Quantity': 100},\n",
       " {'Name': 'Socks', 'Price': 10.0, 'Quantity': 20}]"
      ]
     },
     "execution_count": 202,
     "metadata": {},
     "output_type": "execute_result"
    }
   ],
   "source": [
    "stock #ver el stock antes de eliminar elemento"
   ]
  },
  {
   "cell_type": "code",
   "execution_count": 203,
   "id": "57110d5c",
   "metadata": {},
   "outputs": [
    {
     "name": "stdout",
     "output_type": "stream",
     "text": [
      "Product was deleted successfully.\n"
     ]
    }
   ],
   "source": [
    "delete_product(\"Dress\") #probar eliminar elemento"
   ]
  },
  {
   "cell_type": "code",
   "execution_count": 204,
   "id": "c7f165fa",
   "metadata": {},
   "outputs": [
    {
     "data": {
      "text/plain": [
       "[{'Name': 'Jeans', 'Price': 5.0, 'Quantity': 50},\n",
       " {'Name': 'Socks', 'Price': 10.0, 'Quantity': 20}]"
      ]
     },
     "execution_count": 204,
     "metadata": {},
     "output_type": "execute_result"
    }
   ],
   "source": [
    "stock #verificar si lo eliminó"
   ]
  },
  {
   "cell_type": "code",
   "execution_count": 205,
   "id": "3c8d98ff",
   "metadata": {},
   "outputs": [
    {
     "name": "stdout",
     "output_type": "stream",
     "text": [
      "Product not found.\n"
     ]
    }
   ],
   "source": [
    "delete_product(\"apple\") #probar eliminar elemento que no existe"
   ]
  },
  {
   "cell_type": "markdown",
   "id": "df3368ea",
   "metadata": {},
   "source": [
    "EJERCICIO 6"
   ]
  },
  {
   "cell_type": "code",
   "execution_count": 206,
   "id": "2c3cc328",
   "metadata": {},
   "outputs": [],
   "source": [
    "#`calcular_valor_inventario()`: Calcula y muestra el valor total del inventario.\n",
    "\n",
    "#Itera a través del inventario y suma el valor de cada producto (precio x cantidad). Es decir, calcula el valor total del inventario.\n",
    "#Ejemplo:\n",
    "#```python\n",
    " # si tenemos 5 camisas que valen 5 euros\n",
    " # y 10 calcetines que valen 1 euro\n",
    " # este método te tiene que devolver: 35 euros\n",
    "#valor_camisas = 5 * 5\n",
    "#valor_calcetines = 10 * 1\n",
    "#valor_camisas + valor_calcetines = 35\n",
    "\n",
    "def value_stock(stock):\n",
    "    total_value = 0 #empezar de cero para que se le sumen los subtotales por producto\n",
    "    for product in stock: #Utiliza un bucle for para calcular el valor total del inventario.\n",
    "        price = product[\"Price\"] #tengo que definir las variables porque si no, da error en el print\n",
    "        quantity = product[\"Quantity\"]\n",
    "        total_value += (price*quantity) #sumar cada multiplicación\n",
    "    print(f\"The total value of the stock is $ {total_value}.\")\n"
   ]
  },
  {
   "cell_type": "code",
   "execution_count": 207,
   "id": "27c535a8",
   "metadata": {},
   "outputs": [
    {
     "name": "stdout",
     "output_type": "stream",
     "text": [
      "The total value of the stock is $ 450.0.\n"
     ]
    },
    {
     "data": {
      "text/plain": [
       "[{'Name': 'Jeans', 'Price': 5.0, 'Quantity': 50},\n",
       " {'Name': 'Socks', 'Price': 10.0, 'Quantity': 20}]"
      ]
     },
     "execution_count": 207,
     "metadata": {},
     "output_type": "execute_result"
    }
   ],
   "source": [
    "value_stock(stock)\n",
    "stock\n"
   ]
  },
  {
   "cell_type": "markdown",
   "id": "e16cf6eb",
   "metadata": {},
   "source": [
    "EJERCICIO 7"
   ]
  },
  {
   "cell_type": "code",
   "execution_count": 208,
   "id": "c09da107",
   "metadata": {},
   "outputs": [],
   "source": [
    "#`realizar_compra()`: Permite a un cliente realizar una compra seleccionando productos del inventario. \n",
    "\n",
    "\n",
    "def do_a_purchase(): \n",
    "    \n",
    "    #al principio todo vacío para recibir info\n",
    "    selected_product = \"\" #guardar el producto elegido para validar si existe y buscar su precio y cantidad\n",
    "    selected_quantity = 0 #guardar la cantidad elegida para contrastarla con la cantidad en stock\n",
    "    wish_to_buy = \"\" #saber si quiere comprar o no\n",
    "    shopping_car = set() #guardar los productos por nombre, no la cantidad, si lo coloco en \"0\" suma la cantidad de los productos (len)\n",
    "    total_payment = 0 #sumar el subtotal por compra\n",
    "    \n",
    "    # Debe interactuar con el cliente para seleccionar productos y calcular el costo total de la compra\n",
    "    wish_to_buy = input(\"Would you like to buy something? (Write 'Y' for Yes and 'N' for No):\").capitalize() #que siempre salga en mayúsculas, es una sola letra\n",
    "\n",
    "    while wish_to_buy != \"Y\" and wish_to_buy != \"N\": #respuesta incorrecta\n",
    "        print(\"Your answer is not valid. Please try again.\") #mensaje de error\n",
    "        wish_to_buy = input(\"Would you like to buy something? (Write 'Y' for Yes and 'N' for No):\").capitalize() #repite pregunta hasta que lo escriba bien\n",
    "\n",
    "    if wish_to_buy == \"N\": #si no quiere comprar\n",
    "        print(\"Noted. You can come back anytime.\") #mensaje de despedida\n",
    "        return  # Salir de la función\n",
    "\n",
    "    while wish_to_buy == \"Y\": #Utiliza un bucle `while` para permitir al cliente realizar múltiples compras, siempre que el cliente quiera comprar:\n",
    "    #Muestra el inventario y solicita al cliente ingresar el nombre del producto que desea comprar.\n",
    "        see_stock() #ya la función está hecha antes\n",
    "        selected_product = input(\"Considering the list shown, write the name of the product you choose to buy:\").capitalize() #que el nombre coincida con la capitalización de los productos en stock\n",
    "\n",
    "        for product in stock: #iterar para cada producto\n",
    "            if selected_product == product[\"Name\"]: #nombre existe en stock\n",
    "                price = product[\"Price\"] #definir variables porque las uso luego, si no, da error\n",
    "                quantity = product[\"Quantity\"]\n",
    "                selected_quantity = int(input(\"Write how many units of your selected product you would like to buy:\")) #si el producto existe, pide la cantidad\n",
    "\n",
    "                while selected_quantity > quantity: #no hay suficiente stock\n",
    "                    print(\"Our apologies, we do not have enough units of the selected product. Please try a different amount.\") #mensaje de error\n",
    "                    selected_quantity = int(input(\"Write how many units of your selected product would you like to buy:\")) #repite pregunta hasta que escriba una cantidad que exista\n",
    "                \n",
    "                #De lo contrario, registra los productos seleccionados en un carrito y actualiza elinventario\n",
    "                product[\"Quantity\"] -= selected_quantity #resta la cantidad pedida del stcok\n",
    "                subtotal_cost = price * selected_quantity #calcula el costo de producto y cantidad para la selección actual\n",
    "                shopping_car.add(selected_product) #mete el producto en el carrito, método \"add\" para sets (no importa el orden de los productos)\n",
    "                total_payment += subtotal_cost # Calcula el costo total de la compra (cada subtotal sumado)\n",
    "\n",
    "                print(f\"You have chosen {selected_quantity} units of the product '{selected_product}' and the total payment amount is ${subtotal_cost}.\") #indica cuál es el pedido del subtotal\n",
    "                print(f\"So far, you have selected the following products: {shopping_car} ({len(shopping_car)} different product(s)), and the total payment is ${total_payment}.\") #indica el pedido del total\n",
    "\n",
    "                break #todo listo con la primera compra\n",
    "\n",
    "        else: #si el nombre no existe en stock, si el \"if\" no resultó positivo\n",
    "            print(\"We don't have that product available.\")\n",
    "\n",
    "        wish_to_buy = input(\"Would you like to buy something else? (Write 'Y' for Yes and 'N' for No):\").capitalize() #permite segunda compra\n",
    "\n",
    "        while wish_to_buy != \"Y\" and wish_to_buy != \"N\": #mensaje de error como el del inicio\n",
    "            print(\"Your answer is not valid. Please try again.\")\n",
    "            wish_to_buy = input(\"Would you like to buy something else? (Write 'Y' for Yes and 'N' for No):\").capitalize()\n",
    "\n",
    "    if total_payment > 0: #si hay un compra realizada (monto calculado)\n",
    "        print(\"Thank you for shopping with us. You can proceed to check out.\")"
   ]
  },
  {
   "cell_type": "code",
   "execution_count": 209,
   "id": "4b72e0d7",
   "metadata": {},
   "outputs": [
    {
     "name": "stdout",
     "output_type": "stream",
     "text": [
      "Noted. You can come back anytime.\n"
     ]
    }
   ],
   "source": [
    "do_a_purchase()"
   ]
  },
  {
   "cell_type": "code",
   "execution_count": 210,
   "id": "1b41fd7b",
   "metadata": {},
   "outputs": [
    {
     "name": "stdout",
     "output_type": "stream",
     "text": [
      "Noted. You can come back anytime.\n"
     ]
    }
   ],
   "source": [
    "do_a_purchase()"
   ]
  },
  {
   "cell_type": "code",
   "execution_count": 211,
   "id": "171feda1",
   "metadata": {},
   "outputs": [
    {
     "name": "stdout",
     "output_type": "stream",
     "text": [
      "Noted. You can come back anytime.\n"
     ]
    }
   ],
   "source": [
    "do_a_purchase()"
   ]
  },
  {
   "cell_type": "code",
   "execution_count": 212,
   "id": "da79b3df",
   "metadata": {},
   "outputs": [
    {
     "name": "stdout",
     "output_type": "stream",
     "text": [
      "Noted. You can come back anytime.\n"
     ]
    }
   ],
   "source": [
    "do_a_purchase()"
   ]
  },
  {
   "cell_type": "code",
   "execution_count": 213,
   "id": "7ff537f3",
   "metadata": {},
   "outputs": [
    {
     "name": "stdout",
     "output_type": "stream",
     "text": [
      "Noted. You can come back anytime.\n"
     ]
    }
   ],
   "source": [
    "do_a_purchase()"
   ]
  },
  {
   "cell_type": "markdown",
   "id": "3ce5fc20",
   "metadata": {},
   "source": [
    "EJERCICIO 8\n",
    "`procesar_pago()`: Procesa el pago de una compra, calcula el cambio y\n",
    "muestra un mensaje de confirmación.\n",
    " - Utiliza un bloque `try...except` para manejar excepciones.\n",
    " - Solicita al cliente ingresar la cantidad total y la cantidad de pago\n",
    "usando un input.\n",
    " - Calcula el cambio y muestra un mensaje de pago exitoso o un error en\n",
    "caso de monto insuficiente."
   ]
  },
  {
   "cell_type": "code",
   "execution_count": 214,
   "id": "c7a2a889",
   "metadata": {},
   "outputs": [],
   "source": [
    "def process_payment():\n",
    "    while True:\n",
    "        try:\n",
    "            total_amount= float(input(\"Please enter the total amount for payment.\"))\n",
    "            payment_amount = float(input(\"Please enter the payment amount.\"))\n",
    "            if payment_amount >= total_amount:\n",
    "                change = (payment_amount-total_amount)\n",
    "                print(f\"Thank you for your payment. Your change is {change}.\")\n",
    "                break\n",
    "            else:\n",
    "                print(\"The payment amount is not sufficient. Please enter a different amount.\")\n",
    "        except ValueError:\n",
    "            print(\"Please enter numbers only.\")"
   ]
  },
  {
   "cell_type": "code",
   "execution_count": 215,
   "id": "c07bf53d",
   "metadata": {},
   "outputs": [
    {
     "name": "stdout",
     "output_type": "stream",
     "text": [
      "Thank you for your payment. Your change is 7792.0.\n"
     ]
    }
   ],
   "source": [
    "process_payment()"
   ]
  },
  {
   "cell_type": "markdown",
   "id": "2171a10f",
   "metadata": {},
   "source": [
    "EJERCICIO 9\n",
    "`agregar_cliente(nombre, email)`: Agrega un nuevo cliente al registro de\n",
    "clientes. Debe recibir el nombre y el correo electrónico del cliente como\n",
    "parámetros.\n",
    " - Agrega un cliente al diccionario de clientes con su nombre y correo\n",
    "electrónico."
   ]
  },
  {
   "cell_type": "code",
   "execution_count": null,
   "id": "eb1f290f",
   "metadata": {},
   "outputs": [],
   "source": [
    "def add_client(name, email):\n",
    "    if name not in clients:\n",
    "        clients[name] = email #esta es el \"value\" de mi \"key\"\n",
    "        print(f\"Client '{name}' created successfully.\")\n",
    "    else:\n",
    "        print(\"Client already exists.\")"
   ]
  },
  {
   "cell_type": "code",
   "execution_count": 241,
   "id": "cc87c154",
   "metadata": {},
   "outputs": [
    {
     "name": "stdout",
     "output_type": "stream",
     "text": [
      "Client 'Chunga' created successfully.\n"
     ]
    }
   ],
   "source": [
    "add_client(\"Chunga\", \"chunga33@hotmail.com\")"
   ]
  },
  {
   "cell_type": "code",
   "execution_count": 242,
   "id": "ee401e5d",
   "metadata": {},
   "outputs": [
    {
     "name": "stdout",
     "output_type": "stream",
     "text": [
      "Client 'Pedro' created successfully.\n"
     ]
    }
   ],
   "source": [
    "add_client(\"Pedro\", \"pedro_22@gmail.com\")"
   ]
  },
  {
   "cell_type": "code",
   "execution_count": 245,
   "id": "12c38030",
   "metadata": {},
   "outputs": [
    {
     "name": "stdout",
     "output_type": "stream",
     "text": [
      "Client already exists.\n"
     ]
    }
   ],
   "source": [
    "add_client(\"Juanita\", \"juanita@gmail.com\")"
   ]
  },
  {
   "cell_type": "code",
   "execution_count": 244,
   "id": "063cc460",
   "metadata": {},
   "outputs": [
    {
     "name": "stdout",
     "output_type": "stream",
     "text": [
      "Client 'Lucía' created successfully.\n"
     ]
    }
   ],
   "source": [
    "add_client(\"Lucía\", \"chiqui@yahoo.com\")"
   ]
  },
  {
   "cell_type": "code",
   "execution_count": 246,
   "id": "e34ac565",
   "metadata": {},
   "outputs": [
    {
     "data": {
      "text/plain": [
       "{'Chunga': 'chunga33@hotmail.com',\n",
       " 'Pedro': 'pedro_22@gmail.com',\n",
       " 'Juanita': 'juanita@gmail.com',\n",
       " 'Lucía': 'chiqui@yahoo.com'}"
      ]
     },
     "execution_count": 246,
     "metadata": {},
     "output_type": "execute_result"
    }
   ],
   "source": [
    "clients"
   ]
  },
  {
   "cell_type": "markdown",
   "id": "4d0f7849",
   "metadata": {},
   "source": [
    "EJERCICIO 10\n",
    "`ver_clientes()`: Muestra la lista de clientes registrados con sus\n",
    "nombres y correos electrónicos.\n",
    " - Utiliza un bucle `for` para recorrer la base de datos de clientes.\n",
    " - Imprime los detalles de cada cliente ("
   ]
  },
  {
   "cell_type": "code",
   "execution_count": 264,
   "id": "4fc5f6ae",
   "metadata": {},
   "outputs": [],
   "source": [
    "def see_clients():\n",
    "    if clients == []:\n",
    "        print(\"There are no clients.\")\n",
    "    for i in clients:\n",
    "        print(i)\n",
    "    \n",
    "    "
   ]
  },
  {
   "cell_type": "code",
   "execution_count": 265,
   "id": "4e64c394",
   "metadata": {},
   "outputs": [
    {
     "name": "stdout",
     "output_type": "stream",
     "text": [
      "Chunga\n",
      "Pedro\n",
      "Juanita\n",
      "Lucía\n"
     ]
    }
   ],
   "source": [
    "see_clients()"
   ]
  }
 ],
 "metadata": {
  "kernelspec": {
   "display_name": "base",
   "language": "python",
   "name": "python3"
  },
  "language_info": {
   "codemirror_mode": {
    "name": "ipython",
    "version": 3
   },
   "file_extension": ".py",
   "mimetype": "text/x-python",
   "name": "python",
   "nbconvert_exporter": "python",
   "pygments_lexer": "ipython3",
   "version": "3.12.9"
  }
 },
 "nbformat": 4,
 "nbformat_minor": 5
}
