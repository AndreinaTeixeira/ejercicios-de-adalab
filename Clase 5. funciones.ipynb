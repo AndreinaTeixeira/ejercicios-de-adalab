{
 "cells": [
  {
   "cell_type": "code",
   "execution_count": 2,
   "id": "4d8d34ff",
   "metadata": {},
   "outputs": [],
   "source": [
    "def calcular_area_circulo(radio):\n",
    "    area = (radio **2)  * 3.141592\n",
    "    return(area)"
   ]
  },
  {
   "cell_type": "code",
   "execution_count": null,
   "id": "7f8c2071",
   "metadata": {},
   "outputs": [],
   "source": []
  }
 ],
 "metadata": {
  "kernelspec": {
   "display_name": "base",
   "language": "python",
   "name": "python3"
  },
  "language_info": {
   "codemirror_mode": {
    "name": "ipython",
    "version": 3
   },
   "file_extension": ".py",
   "mimetype": "text/x-python",
   "name": "python",
   "nbconvert_exporter": "python",
   "pygments_lexer": "ipython3",
   "version": "3.12.9"
  }
 },
 "nbformat": 4,
 "nbformat_minor": 5
}
