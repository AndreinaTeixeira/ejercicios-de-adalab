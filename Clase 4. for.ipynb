{
 "cells": [
  {
   "cell_type": "code",
   "execution_count": 22,
   "id": "2a36002c",
   "metadata": {},
   "outputs": [
    {
     "name": "stdout",
     "output_type": "stream",
     "text": [
      "[2, 45, 67, 23, 45, 66, 12, 1, 34, 67, 99, 98, 67, 64, 44, 100]\n"
     ]
    }
   ],
   "source": [
    "temperaturas = [2,45,67,23, 45,66,12,1,34,67,99,98,67,64, 44, 100]\n",
    "print(temperaturas)\n",
    "\n"
   ]
  },
  {
   "cell_type": "code",
   "execution_count": 27,
   "id": "89f64567",
   "metadata": {},
   "outputs": [
    {
     "name": "stdout",
     "output_type": "stream",
     "text": [
      "[2, 1]\n"
     ]
    }
   ],
   "source": [
    "bajas_temp = []\n",
    "\n",
    "for i in temperaturas:\n",
    "    if i <= 10:\n",
    "        bajas_temp.append(i)\n",
    "\n",
    "print(bajas_temp)\n",
    "        "
   ]
  },
  {
   "cell_type": "code",
   "execution_count": 29,
   "id": "4e2dc1cd",
   "metadata": {},
   "outputs": [
    {
     "name": "stdout",
     "output_type": "stream",
     "text": [
      "[2, 1]\n"
     ]
    }
   ],
   "source": [
    "bajas_temp = []\n",
    "\n",
    "for a in temperaturas:\n",
    "    if a <= 10:\n",
    "        bajas_temp.append(a)\n",
    "\n",
    "print(bajas_temp)"
   ]
  },
  {
   "cell_type": "code",
   "execution_count": 32,
   "id": "247847fb",
   "metadata": {},
   "outputs": [
    {
     "name": "stdout",
     "output_type": "stream",
     "text": [
      "[12]\n"
     ]
    }
   ],
   "source": [
    "medias_temp = []\n",
    "\n",
    "for a in temperaturas:\n",
    "    if a <20 and a >11:\n",
    "        medias_temp.append(a)\n",
    "\n",
    "print(medias_temp)"
   ]
  },
  {
   "cell_type": "code",
   "execution_count": 33,
   "id": "c8d7f186",
   "metadata": {},
   "outputs": [
    {
     "name": "stdout",
     "output_type": "stream",
     "text": [
      "[45, 67, 23, 45, 66, 34, 67, 99, 98, 67, 64, 44, 100]\n"
     ]
    }
   ],
   "source": [
    "altas_temp = []\n",
    "\n",
    "for a in temperaturas:\n",
    "    if a >20:\n",
    "        altas_temp.append(a)\n",
    "\n",
    "print(altas_temp)"
   ]
  },
  {
   "cell_type": "code",
   "execution_count": 41,
   "id": "00cbd1cf",
   "metadata": {},
   "outputs": [
    {
     "name": "stdout",
     "output_type": "stream",
     "text": [
      "[]\n"
     ]
    }
   ],
   "source": [
    "bajas_temp_faren = []\n",
    "\n",
    "for i in bajas_temp:\n",
    "    (i*9/5)+32\n",
    "print(bajas_temp_faren)"
   ]
  },
  {
   "cell_type": "code",
   "execution_count": 43,
   "id": "ceff3178",
   "metadata": {},
   "outputs": [
    {
     "data": {
      "text/plain": [
       "[113.0,\n",
       " 152.6,\n",
       " 73.4,\n",
       " 113.0,\n",
       " 150.8,\n",
       " 93.2,\n",
       " 152.6,\n",
       " 210.2,\n",
       " 208.4,\n",
       " 152.6,\n",
       " 147.2,\n",
       " 111.2,\n",
       " 212.0]"
      ]
     },
     "execution_count": 43,
     "metadata": {},
     "output_type": "execute_result"
    }
   ],
   "source": [
    "bajas_temp_faren= [(i * 9/5) + 32 for i in bajas_temp]\n",
    "bajas_temp_faren\n",
    "medias_temp_faren= [(i * 9/5) + 32 for i in medias_temp]\n",
    "medias_temp_faren\n",
    "altas_temp_faren= [(i * 9/5) + 32 for i in altas_temp]\n",
    "altas_temp_faren"
   ]
  },
  {
   "cell_type": "code",
   "execution_count": 45,
   "id": "c32af4ea",
   "metadata": {},
   "outputs": [
    {
     "data": {
      "text/plain": [
       "[0, 1, 2, 3, 4, 5, 6]"
      ]
     },
     "execution_count": 45,
     "metadata": {},
     "output_type": "execute_result"
    }
   ],
   "source": [
    "range_1 = range(7)\n",
    "list(range_1)"
   ]
  },
  {
   "cell_type": "code",
   "execution_count": 46,
   "id": "3e49d563",
   "metadata": {},
   "outputs": [
    {
     "data": {
      "text/plain": [
       "[3, 4, 5, 6]"
      ]
     },
     "execution_count": 46,
     "metadata": {},
     "output_type": "execute_result"
    }
   ],
   "source": [
    "range_2 = range(3,7)\n",
    "list(range_2)"
   ]
  },
  {
   "cell_type": "code",
   "execution_count": 47,
   "id": "7c581a3a",
   "metadata": {},
   "outputs": [
    {
     "data": {
      "text/plain": [
       "[4, 5, 6, 7, 8]"
      ]
     },
     "execution_count": 47,
     "metadata": {},
     "output_type": "execute_result"
    }
   ],
   "source": [
    "range_3 = range(4,9)\n",
    "list(range_3)"
   ]
  },
  {
   "cell_type": "code",
   "execution_count": 48,
   "id": "7f936ae2",
   "metadata": {},
   "outputs": [
    {
     "data": {
      "text/plain": [
       "[2, 3, 4]"
      ]
     },
     "execution_count": 48,
     "metadata": {},
     "output_type": "execute_result"
    }
   ],
   "source": [
    "range_4 = range(2,5)\n",
    "list(range_4)"
   ]
  },
  {
   "cell_type": "code",
   "execution_count": 49,
   "id": "e1b06457",
   "metadata": {},
   "outputs": [
    {
     "data": {
      "text/plain": [
       "[2, 5, 8, 11]"
      ]
     },
     "execution_count": 49,
     "metadata": {},
     "output_type": "execute_result"
    }
   ],
   "source": [
    "range_5 = range(2,13,3)\n",
    "list(range_5)"
   ]
  },
  {
   "cell_type": "code",
   "execution_count": 50,
   "id": "236987f9",
   "metadata": {},
   "outputs": [
    {
     "data": {
      "text/plain": [
       "[1, 3, 5, 7, 9]"
      ]
     },
     "execution_count": 50,
     "metadata": {},
     "output_type": "execute_result"
    }
   ],
   "source": [
    "range_6 = range(1,10,2)\n",
    "list(range_6)"
   ]
  },
  {
   "cell_type": "code",
   "execution_count": null,
   "id": "c45565b7",
   "metadata": {},
   "outputs": [
    {
     "name": "stdout",
     "output_type": "stream",
     "text": [
      "[4, 2025, 4489, 529, 2025, 4356, 144, 1, 1156, 4489, 9801, 9604, 4489, 4096, 1936, 10000]\n"
     ]
    }
   ],
   "source": [
    "temperaturas_2 = [(i **2) for i in temperaturas]\n",
    "print(temperaturas_2)"
   ]
  },
  {
   "cell_type": "code",
   "execution_count": null,
   "id": "a9101de4",
   "metadata": {},
   "outputs": [
    {
     "name": "stdout",
     "output_type": "stream",
     "text": [
      "[0, 1, 1, 1, 1, 0, 0, 1, 0, 1, 1, 0, 1, 0, 0, 0]\n"
     ]
    }
   ],
   "source": [
    "\n",
    "temperaturas_3 = [(i % 2) for i in temperaturas]\n",
    "print(temperaturas_3)\n"
   ]
  },
  {
   "cell_type": "code",
   "execution_count": 54,
   "id": "9aa81704",
   "metadata": {},
   "outputs": [
    {
     "data": {
      "text/plain": [
       "[2, 45, 67, 23, 45, 66, 12, 1, 34, 67, 99, 98, 67, 64, 44, 100]"
      ]
     },
     "execution_count": 54,
     "metadata": {},
     "output_type": "execute_result"
    }
   ],
   "source": [
    "temperaturas"
   ]
  },
  {
   "cell_type": "code",
   "execution_count": 59,
   "id": "1ab3c9b4",
   "metadata": {},
   "outputs": [
    {
     "data": {
      "text/plain": [
       "[2, 66, 12, 34, 98, 64, 44, 100]"
      ]
     },
     "execution_count": 59,
     "metadata": {},
     "output_type": "execute_result"
    }
   ],
   "source": [
    "temperaturas_4 = [ i for i in temperaturas if i % 2 == 0]\n",
    "temperaturas_4"
   ]
  },
  {
   "cell_type": "code",
   "execution_count": 61,
   "id": "707f6b2b",
   "metadata": {},
   "outputs": [
    {
     "name": "stdout",
     "output_type": "stream",
     "text": [
      "[2, 66, 12, 34, 98, 64, 44, 100]\n"
     ]
    }
   ],
   "source": [
    "temperaturas_5 = []\n",
    "\n",
    "for i in temperaturas:\n",
    "    if i % 2 == 0:\n",
    "        temperaturas_5.append(i)\n",
    "print(temperaturas_5)"
   ]
  },
  {
   "cell_type": "code",
   "execution_count": 62,
   "id": "bf9c29b3",
   "metadata": {},
   "outputs": [
    {
     "data": {
      "text/plain": [
       "[2, 45, 23, 45, 12, 1, 34, 44]"
      ]
     },
     "execution_count": 62,
     "metadata": {},
     "output_type": "execute_result"
    }
   ],
   "source": [
    "temperaturas_6= [ i for i in temperaturas if i <= 50]\n",
    "temperaturas_6"
   ]
  },
  {
   "cell_type": "code",
   "execution_count": 67,
   "id": "5d47db00",
   "metadata": {},
   "outputs": [
    {
     "data": {
      "text/plain": [
       "['par',\n",
       " 'impar',\n",
       " 'impar',\n",
       " 'impar',\n",
       " 'impar',\n",
       " 'par',\n",
       " 'par',\n",
       " 'impar',\n",
       " 'par',\n",
       " 'impar',\n",
       " 'impar',\n",
       " 'par',\n",
       " 'impar',\n",
       " 'par',\n",
       " 'par',\n",
       " 'par']"
      ]
     },
     "execution_count": 67,
     "metadata": {},
     "output_type": "execute_result"
    }
   ],
   "source": [
    "temperaturas_7 = []\n",
    "\n",
    "for i in temperaturas:\n",
    "    if i % 2 == 0:\n",
    "        temperaturas_7.append(\"par\")\n",
    "    if i % 2 != 0:\n",
    "        temperaturas_7.append(\"impar\")\n",
    "\n",
    "temperaturas_7"
   ]
  },
  {
   "cell_type": "code",
   "execution_count": 65,
   "id": "978e372f",
   "metadata": {},
   "outputs": [
    {
     "data": {
      "text/plain": [
       "[2, 45, 67, 23, 45, 66, 12, 1, 34, 67, 99, 98, 67, 64, 44, 100]"
      ]
     },
     "execution_count": 65,
     "metadata": {},
     "output_type": "execute_result"
    }
   ],
   "source": [
    "temperaturas"
   ]
  },
  {
   "cell_type": "code",
   "execution_count": 70,
   "id": "907d69d2",
   "metadata": {},
   "outputs": [
    {
     "data": {
      "text/plain": [
       "[0,\n",
       " 1,\n",
       " 2,\n",
       " 3,\n",
       " 4,\n",
       " 5,\n",
       " 6,\n",
       " 7,\n",
       " 8,\n",
       " 9,\n",
       " 10,\n",
       " 11,\n",
       " 12,\n",
       " 13,\n",
       " 14,\n",
       " 15,\n",
       " 16,\n",
       " 17,\n",
       " 18,\n",
       " 19,\n",
       " 20,\n",
       " 21,\n",
       " 22,\n",
       " 23,\n",
       " 24,\n",
       " 25,\n",
       " 26,\n",
       " 27,\n",
       " 28,\n",
       " 29]"
      ]
     },
     "execution_count": 70,
     "metadata": {},
     "output_type": "execute_result"
    }
   ],
   "source": [
    "suma = int(input(\"Escriba un número entero positivo:  \"))\n",
    "suma1 = list(range(0,suma))\n",
    "suma1"
   ]
  },
  {
   "cell_type": "code",
   "execution_count": null,
   "id": "2aec6c80",
   "metadata": {},
   "outputs": [],
   "source": [
    "suma =[]\n",
    "suma_acumulada = suma_acumulada + suma\n",
    "suma_acumulada"
   ]
  },
  {
   "cell_type": "code",
   "execution_count": null,
   "id": "0ab25368",
   "metadata": {},
   "outputs": [],
   "source": [
    "while true:\n",
    "    suma = int(\"escribe num\")\n",
    "    if suma < 0:\n",
    "        break\n",
    "    else:"
   ]
  }
 ],
 "metadata": {
  "kernelspec": {
   "display_name": "base",
   "language": "python",
   "name": "python3"
  },
  "language_info": {
   "codemirror_mode": {
    "name": "ipython",
    "version": 3
   },
   "file_extension": ".py",
   "mimetype": "text/x-python",
   "name": "python",
   "nbconvert_exporter": "python",
   "pygments_lexer": "ipython3",
   "version": "3.12.9"
  }
 },
 "nbformat": 4,
 "nbformat_minor": 5
}
